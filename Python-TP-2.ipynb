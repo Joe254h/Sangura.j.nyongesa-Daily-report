{
 "cells": [
  {
   "cell_type": "markdown",
   "id": "f4b43f4c",
   "metadata": {},
   "source": [
    "Practical_2: String and files\n",
    "Python is amazing!\n",
    "---\n",
    "​\n",
    "### Exercise 1:\n",
    "Create a string variable `text` and assign it the value `\"Python is amazing!\"`.\n",
    "​\n",
    "```python\n",
    "# Exercise 1\n",
    "```"
   ]
  },
  {
   "cell_type": "code",
   "execution_count": null,
   "id": "1c19b2a7",
   "metadata": {},
   "outputs": [],
   "source": [
    "text\n",
    "text = 'Python is amazing!'\n",
    "print(text)"
   ]
  },
  {
   "cell_type": "markdown",
   "id": "e6f87168",
   "metadata": {},
   "source": [
    "Python is amazing!\n",
    "---\n",
    "​\n",
    "### Exercise 2:\n",
    "Find the length of the string `\"Hello, World!\"` and store it in a variable `length`."
   ]
  },
  {
   "cell_type": "code",
   "execution_count": null,
   "id": "4fcd7e8b",
   "metadata": {},
   "outputs": [],
   "source": [
    "```python\n",
    "# Exercise 2\n",
    "```\n",
    "ngth\n",
    "greeting = 'Hello, World!'\n",
    "length = len(greeting)\n",
    "print(length)"
   ]
  },
  {
   "cell_type": "code",
   "execution_count": null,
   "id": "1d97ff91",
   "metadata": {},
   "outputs": [],
   "source": [
    "### Exercise 3:\n",
    "Convert the string `\"python programming\"` to uppercase and store it in a variable `upper_text`.\n",
    "```python\n",
    "# Exercise 3\n",
    "```"
   ]
  },
  {
   "cell_type": "code",
   "execution_count": 14,
   "id": "38110679",
   "metadata": {},
   "outputs": [
    {
     "data": {
      "text/plain": [
       "'PYTHON PROGRAMMING'"
      ]
     },
     "execution_count": 14,
     "metadata": {},
     "output_type": "execute_result"
    }
   ],
   "source": [
    "upper_text = 'python programming'\n",
    "upper_text.upper()\n"
   ]
  },
  {
   "cell_type": "code",
   "execution_count": null,
   "id": "539252d1",
   "metadata": {},
   "outputs": [],
   "source": [
    "### Exercise 4:\n",
    "Extract the first 5 characters from the string `\"Artificial Intelligence\"`.\n",
    "​\n",
    "```python\n",
    "# Exercise 4\n",
    "```"
   ]
  },
  {
   "cell_type": "code",
   "execution_count": 5,
   "id": "6eb6b5da",
   "metadata": {},
   "outputs": [
    {
     "name": "stdout",
     "output_type": "stream",
     "text": [
      "Artificial Intelligence\n"
     ]
    },
    {
     "data": {
      "text/plain": [
       "'Artif'"
      ]
     },
     "execution_count": 5,
     "metadata": {},
     "output_type": "execute_result"
    }
   ],
   "source": [
    "art = \"Artificial Intelligence\"\n",
    "print(art)\n",
    "art[0:5]\n"
   ]
  },
  {
   "cell_type": "code",
   "execution_count": null,
   "id": "6bfdb23a",
   "metadata": {},
   "outputs": [],
   "source": [
    "### Exercise 5:\n",
    "Concatenate the strings `\"Hello\"` and `\"World\"` with a space in between.\n",
    "​\n",
    "```python\n",
    "# Exercise 5\n",
    "```"
   ]
  },
  {
   "cell_type": "code",
   "execution_count": 15,
   "id": "83bf8286",
   "metadata": {},
   "outputs": [
    {
     "name": "stdout",
     "output_type": "stream",
     "text": [
      "hello world\n"
     ]
    }
   ],
   "source": [
    "a = 'hello'\n",
    "b = 'world'\n",
    "complete = a + \" \"+ b \n",
    "print(complete)\n"
   ]
  },
  {
   "cell_type": "code",
   "execution_count": null,
   "id": "0395059d",
   "metadata": {},
   "outputs": [],
   "source": [
    "### Exercise 6:\n",
    "Replace the word `\"dog\"` with `\"cat\"` in the string `\"The quick brown dog jumps over the lazy dog.\"`.\n",
    "​\n",
    "```python\n",
    "# Exercise 6\n",
    "```\n",
    "2"
   ]
  },
  {
   "cell_type": "code",
   "execution_count": 16,
   "id": "1287ab60",
   "metadata": {},
   "outputs": [
    {
     "data": {
      "text/plain": [
       "'The quick brown cat jumps over the lazy cat.'"
      ]
     },
     "execution_count": 16,
     "metadata": {},
     "output_type": "execute_result"
    }
   ],
   "source": [
    "string_1 = \"The quick brown dog jumps over the lazy dog.\"\n",
    "string_1.replace(\"dog\", \"cat\",2)\n",
    "string_1."
   ]
  },
  {
   "cell_type": "code",
   "execution_count": null,
   "id": "b68eae0c",
   "metadata": {},
   "outputs": [],
   "source": [
    "### Exercise 7:\n",
    "Split the string `\"apple,banana,orange\"` by commas and store the result in a list `fruits_list`.\n",
    "​\n",
    "```python\n",
    "# Exercise 7\n",
    "```"
   ]
  },
  {
   "cell_type": "code",
   "execution_count": 17,
   "id": "acbb6aba",
   "metadata": {},
   "outputs": [
    {
     "name": "stdout",
     "output_type": "stream",
     "text": [
      "['apple', 'banana', 'orange']\n"
     ]
    }
   ],
   "source": [
    "fruits_list = ['apple','banana','orange']\n",
    "print(fruits_list)"
   ]
  },
  {
   "cell_type": "code",
   "execution_count": 18,
   "id": "713bf857",
   "metadata": {},
   "outputs": [
    {
     "ename": "SyntaxError",
     "evalue": "invalid non-printable character U+200B (3189941877.py, line 3)",
     "output_type": "error",
     "traceback": [
      "\u001b[0;36m  Cell \u001b[0;32mIn[18], line 3\u001b[0;36m\u001b[0m\n\u001b[0;31m    ​\u001b[0m\n\u001b[0m    ^\u001b[0m\n\u001b[0;31mSyntaxError\u001b[0m\u001b[0;31m:\u001b[0m invalid non-printable character U+200B\n"
     ]
    }
   ],
   "source": [
    "### Exercise 8:\n",
    "Use string formatting to create the sentence `\"My name is Alice and I am 25 years old.\"`, where the name and age are variables.\n",
    "variables\n",
    "```python\n",
    "# Exercise 8\n",
    "```"
   ]
  },
  {
   "cell_type": "code",
   "execution_count": 28,
   "id": "12deabae",
   "metadata": {},
   "outputs": [
    {
     "name": "stdout",
     "output_type": "stream",
     "text": [
      "My name is Alice  and I am 25 years old\n"
     ]
    }
   ],
   "source": [
    "name = 'Alice'\n",
    "age = 25\n",
    "print (f\"My name is {name} and I am {age} years old\")"
   ]
  },
  {
   "cell_type": "markdown",
   "id": "69dc0182",
   "metadata": {},
   "source": [
    "### Exercise 9:\n",
    "Check if the string `\"python\"` is present in the sentence `\"I love python programming\"`.\n",
    "​\n",
    "```python\n",
    "# Exercise 9\n",
    "```"
   ]
  },
  {
   "cell_type": "code",
   "execution_count": 31,
   "id": "99d3e868",
   "metadata": {},
   "outputs": [
    {
     "name": "stdout",
     "output_type": "stream",
     "text": [
      "yes, 'python' is present in the sentence\n"
     ]
    }
   ],
   "source": [
    "text_3 =\"I love python programming\"\n",
    "if \"python\" in text_3:\n",
    "    print(\"yes, 'python' is present in the sentence\")\n",
    "else:\n",
    "    print(\"No, 'python' is not present in the sentence\")"
   ]
  },
  {
   "cell_type": "code",
   "execution_count": null,
   "id": "3a04935b",
   "metadata": {},
   "outputs": [],
   "source": [
    "### Exercise 10:\n",
    "Count the number of occurrences of the letter `\"e\"` in the string `\"Elephant is an elegant animal\"`.\n",
    "​\n",
    "```python\n",
    "# Exercise 10\n",
    "```"
   ]
  },
  {
   "cell_type": "code",
   "execution_count": 32,
   "id": "2955c1b1",
   "metadata": {},
   "outputs": [
    {
     "name": "stdout",
     "output_type": "stream",
     "text": [
      "The letter 'e' appears 4 times in the text.\n"
     ]
    }
   ],
   "source": [
    "# Exercise 10\n",
    "\n",
    "text = \"Elephant is an elegant animal\"\n",
    "\n",
    "# Count the number of occurrences of 'e' (case-insensitive)\n",
    "count_e = text.lower().count(\"e\")\n",
    "\n",
    "print(f\"The letter 'e' appears {count_e} times in the text.\")\n"
   ]
  },
  {
   "cell_type": "code",
   "execution_count": null,
   "id": "d920ba4b",
   "metadata": {},
   "outputs": [],
   "source": [
    "### Exercise 11:\n",
    "Remove any leading and trailing spaces from the string `\"   Data Science   \"`.\n",
    "​\n",
    "```python\n",
    "# Exercise 11\n",
    "```"
   ]
  },
  {
   "cell_type": "code",
   "execution_count": 33,
   "id": "872a8f8b",
   "metadata": {},
   "outputs": [
    {
     "name": "stdout",
     "output_type": "stream",
     "text": [
      "Original text: '   Data Science   '\n",
      "Cleaned text: 'Data Science'\n"
     ]
    }
   ],
   "source": [
    "# Exercise 11\n",
    "\n",
    "text = \"   Data Science   \"\n",
    "\n",
    "# Remove leading and trailing spaces\n",
    "clean_text = text.strip()\n",
    "\n",
    "print(f\"Original text: '{text}'\")\n",
    "print(f\"Cleaned text: '{clean_text}'\")\n"
   ]
  },
  {
   "cell_type": "code",
   "execution_count": null,
   "id": "bb8121e6",
   "metadata": {},
   "outputs": [],
   "source": [
    "### Exercise 12:\n",
    "Convert the string `\"100\"` into an integer and store it in a variable `int_value`.\n",
    "​\n",
    "```python\n",
    "# Exercise 12\n",
    "```"
   ]
  },
  {
   "cell_type": "code",
   "execution_count": 34,
   "id": "4da1853d",
   "metadata": {},
   "outputs": [
    {
     "name": "stdout",
     "output_type": "stream",
     "text": [
      "100\n",
      "<class 'int'>\n"
     ]
    }
   ],
   "source": [
    "# Exercise 12\n",
    "\n",
    "num_str = \"100\"\n",
    "\n",
    "# Convert the string to an integer\n",
    "int_value = int(num_str)\n",
    "\n",
    "print(int_value)\n",
    "print(type(int_value))\n"
   ]
  },
  {
   "cell_type": "code",
   "execution_count": null,
   "id": "6c82673f",
   "metadata": {},
   "outputs": [],
   "source": [
    "### Exercise 13:\n",
    "Extract the substring `\"pro\"` from the string `\"programming\"`.\n",
    "​\n",
    "```python\n",
    "# Exercise 13\n",
    "```"
   ]
  },
  {
   "cell_type": "code",
   "execution_count": 35,
   "id": "3b9a9110",
   "metadata": {},
   "outputs": [
    {
     "name": "stdout",
     "output_type": "stream",
     "text": [
      "pro\n"
     ]
    }
   ],
   "source": [
    "# Exercise 13\n",
    "\n",
    "text = \"programming\"\n",
    "\n",
    "# Extract the substring \"pro\"\n",
    "substring = text[0:3]\n",
    "\n",
    "print(substring)\n"
   ]
  },
  {
   "cell_type": "code",
   "execution_count": null,
   "id": "6a03e817",
   "metadata": {},
   "outputs": [],
   "source": [
    "### Exercise 14:\n",
    "Check if the string `\"data\"` starts with `\"da\"` and ends with `\"ta\"`.\n",
    "​\n",
    "```python\n",
    "# Exercise 14\n",
    "```"
   ]
  },
  {
   "cell_type": "code",
   "execution_count": 36,
   "id": "eebdb72a",
   "metadata": {},
   "outputs": [
    {
     "name": "stdout",
     "output_type": "stream",
     "text": [
      "Starts with 'da': True\n",
      "Ends with 'ta': True\n"
     ]
    }
   ],
   "source": [
    "# Exercise 14\n",
    "\n",
    "text = \"data\"\n",
    "\n",
    "# Check if the string starts with \"da\" and ends with \"ta\"\n",
    "starts = text.startswith(\"da\")\n",
    "ends = text.endswith(\"ta\")\n",
    "\n",
    "print(f\"Starts with 'da': {starts}\")\n",
    "print(f\"Ends with 'ta': {ends}\")\n"
   ]
  },
  {
   "cell_type": "code",
   "execution_count": null,
   "id": "0231a192",
   "metadata": {},
   "outputs": [],
   "source": [
    "### Exercise 15:\n",
    "Reverse the string `\"machine learning\"` and store the result in `reversed_text`.\n",
    "​\n",
    "```python\n",
    "# Exercise 15\n",
    "```"
   ]
  },
  {
   "cell_type": "code",
   "execution_count": 37,
   "id": "4df302b4",
   "metadata": {},
   "outputs": [
    {
     "name": "stdout",
     "output_type": "stream",
     "text": [
      "gninrael enihcam\n"
     ]
    }
   ],
   "source": [
    "# Exercise 15\n",
    "\n",
    "text = \"machine learning\"\n",
    "\n",
    "# Reverse the string\n",
    "reversed_text = text[::-1]\n",
    "\n",
    "print(reversed_text)\n"
   ]
  },
  {
   "cell_type": "code",
   "execution_count": null,
   "id": "66ab0deb",
   "metadata": {},
   "outputs": [],
   "source": [
    "### Exercise 16:\n",
    "Convert the first letter of each word in the string `\"machine learning is fun\"` to uppercase.\n",
    "​\n",
    "```python\n",
    "# Exercise 16\n",
    "```"
   ]
  },
  {
   "cell_type": "code",
   "execution_count": 38,
   "id": "de664ce6",
   "metadata": {},
   "outputs": [
    {
     "name": "stdout",
     "output_type": "stream",
     "text": [
      "Machine Learning Is Fun\n"
     ]
    }
   ],
   "source": [
    "# Exercise 16\n",
    "\n",
    "text = \"machine learning is fun\"\n",
    "\n",
    "# Convert the first letter of each word to uppercase\n",
    "capitalized_text = text.title()\n",
    "\n",
    "print(capitalized_text)\n"
   ]
  },
  {
   "cell_type": "code",
   "execution_count": null,
   "id": "443a6558",
   "metadata": {},
   "outputs": [],
   "source": [
    "### Exercise 17:\n",
    "Create a multiline string representing a poem and store it in a variable `poem`.\n",
    "​\n",
    "```python\n",
    "# Exercise 17\n",
    "```"
   ]
  },
  {
   "cell_type": "code",
   "execution_count": 39,
   "id": "c83e423c",
   "metadata": {},
   "outputs": [
    {
     "name": "stdout",
     "output_type": "stream",
     "text": [
      "Roses are red,\n",
      "Violets are blue,\n",
      "Machine learning is fun,\n",
      "And so are you.\n"
     ]
    }
   ],
   "source": [
    "# Exercise 17\n",
    "\n",
    "# Create a multiline string (poem)\n",
    "poem = \"\"\"Roses are red,\n",
    "Violets are blue,\n",
    "Machine learning is fun,\n",
    "And so are you.\"\"\"\n",
    "\n",
    "print(poem)\n"
   ]
  },
  {
   "cell_type": "code",
   "execution_count": null,
   "id": "4a0c640b",
   "metadata": {},
   "outputs": [],
   "source": [
    "### Exercise 18:\n",
    "Write a string to a file named `\"output.txt\"`.\n",
    "​\n",
    "```python\n",
    "# Exercise 18\n",
    "```"
   ]
  },
  {
   "cell_type": "code",
   "execution_count": 40,
   "id": "75e6a58d",
   "metadata": {},
   "outputs": [
    {
     "name": "stdout",
     "output_type": "stream",
     "text": [
      "Text has been written to 'output.txt'.\n"
     ]
    }
   ],
   "source": [
    "# Exercise 18\n",
    "\n",
    "# The string to be written\n",
    "text = \"Learning Python is fun and powerful!\"\n",
    "\n",
    "# Open the file in write mode and write the string\n",
    "with open(\"output.txt\", \"w\") as file:\n",
    "    file.write(text)\n",
    "\n",
    "print(\"Text has been written to 'output.txt'.\")\n"
   ]
  },
  {
   "cell_type": "code",
   "execution_count": null,
   "id": "2a1e33c8",
   "metadata": {},
   "outputs": [],
   "source": [
    "### Exercise 19:\n",
    "Read the contents of a file named `\"data.txt\"` and print it line by line.\n",
    "​\n",
    "```python\n",
    "# Exercise 19\n",
    "```"
   ]
  },
  {
   "cell_type": "code",
   "execution_count": 41,
   "id": "72a213c2",
   "metadata": {},
   "outputs": [
    {
     "name": "stdout",
     "output_type": "stream",
     "text": [
      "﻿come home today\n",
      "we are really waiting for you\n",
      "tomorrow will be a good day\n"
     ]
    }
   ],
   "source": [
    "# Exercise 19\n",
    "\n",
    "# Open the file in read mode\n",
    "with open(\"data.txt\", \"r\") as file:\n",
    "    # Read and print each line\n",
    "    for line in file:\n",
    "        print(line.strip())\n"
   ]
  },
  {
   "cell_type": "code",
   "execution_count": null,
   "id": "fabe9507",
   "metadata": {},
   "outputs": [],
   "source": [
    "### Exercise 20:\n",
    "Check if a file `\"example.txt\"` exists before opening it.\n",
    "​\n",
    "```python\n",
    "# Exercise 20\n",
    "```"
   ]
  },
  {
   "cell_type": "code",
   "execution_count": 42,
   "id": "b7b98b80",
   "metadata": {},
   "outputs": [
    {
     "name": "stdout",
     "output_type": "stream",
     "text": [
      "The file 'example.txt' does not exist.\n"
     ]
    }
   ],
   "source": [
    "# Exercise 20\n",
    "\n",
    "import os\n",
    "\n",
    "filename = \"example.txt\"\n",
    "\n",
    "# Check if the file exists before opening\n",
    "if os.path.exists(filename):\n",
    "    with open(filename, \"r\") as file:\n",
    "        content = file.read()\n",
    "        print(content)\n",
    "else:\n",
    "    print(f\"The file '{filename}' does not exist.\")\n"
   ]
  },
  {
   "cell_type": "code",
   "execution_count": null,
   "id": "a6d5f7a3",
   "metadata": {},
   "outputs": [],
   "source": [
    "### Exercise 21:\n",
    "Append a new line `\"This is a new line\"` to an existing file `\"notes.txt\"`.\n",
    "​\n",
    "```python\n",
    "# Exercise 21\n",
    "```"
   ]
  },
  {
   "cell_type": "code",
   "execution_count": 43,
   "id": "792520af",
   "metadata": {},
   "outputs": [
    {
     "name": "stdout",
     "output_type": "stream",
     "text": [
      "A new line has been appended to 'notes.txt'.\n"
     ]
    }
   ],
   "source": [
    "# Exercise 21\n",
    "\n",
    "# Open the file in append mode\n",
    "with open(\"notes.txt\", \"a\") as file:\n",
    "    file.write(\"\\nThis is a new line\")\n",
    "\n",
    "print(\"A new line has been appended to 'notes.txt'.\")\n"
   ]
  },
  {
   "cell_type": "code",
   "execution_count": null,
   "id": "1280a290",
   "metadata": {},
   "outputs": [],
   "source": [
    "### Exercise 22:\n",
    "Read the contents of a file `\"log.txt\"` and store each line in a list `log_lines`.\n",
    "​\n",
    "```python\n",
    "# Exercise 22\n",
    "```"
   ]
  },
  {
   "cell_type": "code",
   "execution_count": 44,
   "id": "217733f6",
   "metadata": {},
   "outputs": [
    {
     "name": "stdout",
     "output_type": "stream",
     "text": [
      "['\\ufeffkelvin is coming today\\n', '\\n', '\\n', 'hello everyone\\n', 'come home now it is late']\n"
     ]
    }
   ],
   "source": [
    "# Exercise 22\n",
    "\n",
    "# Open the file in read mode\n",
    "with open(\"log.txt\", \"r\") as file:\n",
    "    # Read all lines and store them in a list\n",
    "    log_lines = file.readlines()\n",
    "\n",
    "print(log_lines)\n"
   ]
  },
  {
   "cell_type": "code",
   "execution_count": null,
   "id": "34cde175",
   "metadata": {},
   "outputs": [],
   "source": [
    "### Exercise 23:\n",
    "Create a new file `\"report.txt\"` and write the string `\"Data analysis report\"` to it.\n",
    "​\n",
    "```python\n",
    "# Exercise 23\n",
    "```"
   ]
  },
  {
   "cell_type": "code",
   "execution_count": 45,
   "id": "7d5c0d64",
   "metadata": {},
   "outputs": [
    {
     "name": "stdout",
     "output_type": "stream",
     "text": [
      "The file 'report.txt' has been created and written successfully.\n"
     ]
    }
   ],
   "source": [
    "# Exercise 23\n",
    "\n",
    "# Create a new file and write to it\n",
    "with open(\"report.txt\", \"w\") as file:\n",
    "    file.write(\"Data analysis report\")\n",
    "\n",
    "print(\"The file 'report.txt' has been created and written successfully.\")\n"
   ]
  },
  {
   "cell_type": "code",
   "execution_count": null,
   "id": "41073906",
   "metadata": {},
   "outputs": [],
   "source": [
    "### Exercise 24:\n",
    "Replace the word `\"error\"` with `\"issue\"` in a file `\"log.txt\"`.\n",
    "​\n",
    "```python\n",
    "# Exercise 24\n",
    "```"
   ]
  },
  {
   "cell_type": "code",
   "execution_count": 46,
   "id": "79406182",
   "metadata": {},
   "outputs": [
    {
     "name": "stdout",
     "output_type": "stream",
     "text": [
      "All occurrences of 'error' have been replaced with 'issue' in 'log.txt'.\n"
     ]
    }
   ],
   "source": [
    "# Exercise 24\n",
    "\n",
    "# Read the contents of the file\n",
    "with open(\"log.txt\", \"r\") as file:\n",
    "    content = file.read()\n",
    "\n",
    "# Replace the word \"error\" with \"issue\"\n",
    "updated_content = content.replace(\"error\", \"issue\")\n",
    "\n",
    "# Write the updated content back to the same file\n",
    "with open(\"log.txt\", \"w\") as file:\n",
    "    file.write(updated_content)\n",
    "\n",
    "print(\"All occurrences of 'error' have been replaced with 'issue' in 'log.txt'.\")\n"
   ]
  },
  {
   "cell_type": "code",
   "execution_count": null,
   "id": "b97f0f11",
   "metadata": {},
   "outputs": [],
   "source": [
    "### Exercise 25:\n",
    "Count the number of words in a text file `\"document.txt\"`.\n",
    "​\n",
    "```python\n",
    "# Exercise 25\n",
    "```"
   ]
  },
  {
   "cell_type": "code",
   "execution_count": 48,
   "id": "49482844",
   "metadata": {},
   "outputs": [
    {
     "name": "stdout",
     "output_type": "stream",
     "text": [
      "The file contains 78 words.\n"
     ]
    }
   ],
   "source": [
    "# Exercise 25\n",
    "\n",
    "# Open the file in read mode\n",
    "with open(\"document.txt\", \"r\") as file:\n",
    "    content = file.read()\n",
    "\n",
    "# Split the content into words and count them\n",
    "word_count = len(content.split())\n",
    "\n",
    "print(f\"The file contains {word_count} words.\")\n"
   ]
  },
  {
   "cell_type": "code",
   "execution_count": null,
   "id": "a7bb4f5d",
   "metadata": {},
   "outputs": [],
   "source": [
    "### Exercise 26:\n",
    "Write a Python script that reads a file `\"essay.txt\"` and prints the total number of lines, words, and characters.\n",
    "​\n",
    "```python\n",
    "# Exercise 26\n",
    "```"
   ]
  },
  {
   "cell_type": "code",
   "execution_count": 49,
   "id": "8975d413",
   "metadata": {},
   "outputs": [
    {
     "name": "stdout",
     "output_type": "stream",
     "text": [
      "Total lines: 1\n",
      "Total words: 78\n",
      "Total characters: 564\n"
     ]
    }
   ],
   "source": [
    "# Exercise 26\n",
    "\n",
    "# Open the file in read mode\n",
    "with open(\"essay.txt\", \"r\") as file:\n",
    "    content = file.read()\n",
    "\n",
    "# Count lines, words, and characters\n",
    "line_count = content.count(\"\\n\") + 1 if content.strip() else 0\n",
    "word_count = len(content.split())\n",
    "char_count = len(content)\n",
    "\n",
    "# Display the results\n",
    "print(f\"Total lines: {line_count}\")\n",
    "print(f\"Total words: {word_count}\")\n",
    "print(f\"Total characters: {char_count}\")\n"
   ]
  },
  {
   "cell_type": "code",
   "execution_count": null,
   "id": "a32f6fab",
   "metadata": {},
   "outputs": [],
   "source": [
    "### Exercise 27:\n",
    "Copy the contents of one file `\"source.txt\"` to another file `\"destination.txt\"`.\n",
    "​\n",
    "```python\n",
    "# Exercise 27\n",
    "```"
   ]
  },
  {
   "cell_type": "code",
   "execution_count": 50,
   "id": "162faf0c",
   "metadata": {},
   "outputs": [
    {
     "name": "stdout",
     "output_type": "stream",
     "text": [
      "Contents of 'source.txt' have been copied to 'destination.txt'.\n"
     ]
    }
   ],
   "source": [
    "# Exercise 27\n",
    "\n",
    "# Open the source file in read mode and destination file in write mode\n",
    "with open(\"source.txt\", \"r\") as src_file:\n",
    "    content = src_file.read()\n",
    "\n",
    "with open(\"destination.txt\", \"w\") as dest_file:\n",
    "    dest_file.write(content)\n",
    "\n",
    "print(\"Contents of 'source.txt' have been copied to 'destination.txt'.\")\n"
   ]
  },
  {
   "cell_type": "code",
   "execution_count": null,
   "id": "801b72c2",
   "metadata": {},
   "outputs": [],
   "source": [
    "### Exercise 28:\n",
    "Write a Python function that takes a filename as input and returns the number of lines in the file.\n",
    "​\n",
    "```python\n",
    "# Exercise 28\n",
    "```"
   ]
  },
  {
   "cell_type": "code",
   "execution_count": 52,
   "id": "33bcb8a2",
   "metadata": {},
   "outputs": [
    {
     "name": "stdout",
     "output_type": "stream",
     "text": [
      "The file 'destination.txt' has 4 lines.\n"
     ]
    }
   ],
   "source": [
    "# Exercise 28\n",
    "\n",
    "# Define a function to count the number of lines in a file\n",
    "def count_lines(filename):\n",
    "    with open(filename, \"r\") as file:\n",
    "        lines = file.readlines()\n",
    "        return len(lines)\n",
    "\n",
    "# Use the function with 'destination.txt'\n",
    "file_name = \"destination.txt\"\n",
    "print(f\"The file '{file_name}' has {count_lines(file_name)} lines.\")\n"
   ]
  },
  {
   "cell_type": "code",
   "execution_count": null,
   "id": "0cc7f4c7",
   "metadata": {},
   "outputs": [],
   "source": [
    "### Exercise 29:\n",
    "Extract all the words from a text file `\"article.txt\"` that contain more than 5 characters.\n",
    "​\n",
    "```python\n",
    "# Exercise 29\n",
    "```"
   ]
  },
  {
   "cell_type": "code",
   "execution_count": 53,
   "id": "be903954",
   "metadata": {},
   "outputs": [
    {
     "name": "stdout",
     "output_type": "stream",
     "text": [
      "Words with more than 5 characters:\n",
      "['Sénégal', 'maintient', 'épidémie', 'faible', 'prévalence', 'population', 'générale', '(autour', '0,3-0,7%', 'concentrée', 'certaines', 'géographiques', 'populations', '(travailleurs', 'hommes', 'relations', 'sexuelles', 'hommes,', 'prisonniers).', \"s'efforce\", \"d'atteindre\", 'objectifs', \"l'ONUSIDA\", '(95-95-95', 'dépistage,', 'traitement,', 'suppression', 'virale)', 'l’évolution', 'l’épidémie', 'dimension', 'individuelle', '(suivi', 'traitements,', 'charge', 'virale)', 'agrégée', 'prévalence', 'région/groupe).']\n"
     ]
    }
   ],
   "source": [
    "# Exercise 29\n",
    "\n",
    "# Open the file in read mode\n",
    "with open(\"article.txt\", \"r\") as file:\n",
    "    content = file.read()\n",
    "\n",
    "# Split the text into words\n",
    "words = content.split()\n",
    "\n",
    "# Extract words with more than 5 characters\n",
    "long_words = [word for word in words if len(word) > 5]\n",
    "\n",
    "print(\"Words with more than 5 characters:\")\n",
    "print(long_words)\n"
   ]
  },
  {
   "cell_type": "code",
   "execution_count": null,
   "id": "036852f9",
   "metadata": {},
   "outputs": [],
   "source": [
    "### Exercise 30:\n",
    "Convert the contents of a file `\"notes.txt\"` to uppercase and save the result in another file `\"uppercase_notes.txt\"`.\n",
    "​\n",
    "```python\n",
    "# Exercise 30\n",
    "```"
   ]
  },
  {
   "cell_type": "code",
   "execution_count": 54,
   "id": "12440d01",
   "metadata": {},
   "outputs": [
    {
     "name": "stdout",
     "output_type": "stream",
     "text": [
      "The contents of 'notes.txt' have been converted to uppercase and saved in 'uppercase_notes.txt'.\n"
     ]
    }
   ],
   "source": [
    "# Exercise 30\n",
    "\n",
    "# Read the contents of 'notes.txt'\n",
    "with open(\"notes.txt\", \"r\") as file:\n",
    "    content = file.read()\n",
    "\n",
    "# Convert the content to uppercase\n",
    "uppercase_content = content.upper()\n",
    "\n",
    "# Write the uppercase content to a new file\n",
    "with open(\"uppercase_notes.txt\", \"w\") as file:\n",
    "    file.write(uppercase_content)\n",
    "\n",
    "print(\"The contents of 'notes.txt' have been converted to uppercase and saved in 'uppercase_notes.txt'.\")\n"
   ]
  },
  {
   "cell_type": "code",
   "execution_count": null,
   "id": "a2e1880f",
   "metadata": {},
   "outputs": [],
   "source": [
    "### Exercise 31:\n",
    "Write a Python script that reads a file and removes all empty lines.\n",
    "​\n",
    "```python\n",
    "# Exercise 31\n",
    "```"
   ]
  },
  {
   "cell_type": "code",
   "execution_count": 55,
   "id": "a2a3948e",
   "metadata": {},
   "outputs": [
    {
     "name": "stdout",
     "output_type": "stream",
     "text": [
      "All empty lines have been removed from 'article.txt'.\n"
     ]
    }
   ],
   "source": [
    "# Exercise 31\n",
    "\n",
    "# Open the file in read mode\n",
    "with open(\"article.txt\", \"r\") as file:\n",
    "    lines = file.readlines()\n",
    "\n",
    "# Remove empty lines (lines that are just whitespace)\n",
    "non_empty_lines = [line for line in lines if line.strip() != \"\"]\n",
    "\n",
    "# Write back only the non-empty lines\n",
    "with open(\"article.txt\", \"w\") as file:\n",
    "    file.writelines(non_empty_lines)\n",
    "\n",
    "print(\"All empty lines have been removed from 'article.txt'.\")\n"
   ]
  },
  {
   "cell_type": "code",
   "execution_count": null,
   "id": "a8ee9e47",
   "metadata": {},
   "outputs": [],
   "source": [
    "### Exercise 32:\n",
    "Open a file `\"config.txt\"` in both read and write mode.\n",
    "​\n",
    "```python\n",
    "# Exercise 32\n",
    "```"
   ]
  },
  {
   "cell_type": "code",
   "execution_count": 56,
   "id": "511d1913",
   "metadata": {},
   "outputs": [
    {
     "name": "stdout",
     "output_type": "stream",
     "text": [
      "Current contents of 'config.txt':\n",
      "﻿Le Sénégal maintient une épidémie de VIH à faible prévalence dans la population générale (autour de 0,3-0,7% chez les 15-49 ans), mais elle est concentrée dans certaines zones géographiques et populations clés (travailleurs du sexe, hommes ayant des relations sexuelles avec les hommes, prisonniers). Le pays s'efforce d'atteindre les objectifs de l'ONUSIDA (95-95-95 : dépistage, traitement, suppression virale) et suit l’évolution de l’épidémie avec une dimension individuelle (suivi des traitements, charge virale) et agrégée (la prévalence par région/groupe).\n",
      "File 'config.txt' opened in read and write mode successfully.\n"
     ]
    }
   ],
   "source": [
    "# Exercise 32\n",
    "\n",
    "# Open the file in both read and write mode\n",
    "with open(\"config.txt\", \"r+\") as file:\n",
    "    # Read the existing content\n",
    "    content = file.read()\n",
    "    print(\"Current contents of 'config.txt':\")\n",
    "    print(content)\n",
    "\n",
    "    # Write new content at the end of the file\n",
    "    file.write(\"\\n# Configuration updated successfully\")\n",
    "\n",
    "print(\"File 'config.txt' opened in read and write mode successfully.\")\n"
   ]
  },
  {
   "cell_type": "code",
   "execution_count": null,
   "id": "31d79a58",
   "metadata": {},
   "outputs": [],
   "source": [
    "### Exercise 33:\n",
    "Write a Python function that reads a file and prints the longest line in the file.\n",
    "​\n",
    "```python\n",
    "# Exercise 33\n",
    "```"
   ]
  },
  {
   "cell_type": "code",
   "execution_count": 57,
   "id": "2fa1f2ff",
   "metadata": {},
   "outputs": [
    {
     "name": "stdout",
     "output_type": "stream",
     "text": [
      "The longest line in the file is:\n",
      "﻿Le Sénégal maintient une épidémie de VIH à faible prévalence dans la population générale (autour de 0,3-0,7% chez les 15-49 ans), mais elle est concentrée dans certaines zones géographiques et populations clés (travailleurs du sexe, hommes ayant des relations sexuelles avec les hommes, prisonniers). Le pays s'efforce d'atteindre les objectifs de l'ONUSIDA (95-95-95 : dépistage, traitement, suppression virale) et suit l’évolution de l’épidémie avec une dimension individuelle (suivi des traitements, charge virale) et agrégée (la prévalence par région/groupe).\n"
     ]
    }
   ],
   "source": [
    "# Exercise 33\n",
    "\n",
    "# Define a function to read a file and print the longest line\n",
    "def print_longest_line(filename):\n",
    "    with open(filename, \"r\") as file:\n",
    "        lines = file.readlines()\n",
    "        if not lines:\n",
    "            print(\"The file is empty.\")\n",
    "            return\n",
    "        # Find the longest line using max() with key=len\n",
    "        longest_line = max(lines, key=len)\n",
    "        print(\"The longest line in the file is:\")\n",
    "        print(longest_line.strip())\n",
    "\n",
    "# Use the function with 'config.txt'\n",
    "print_longest_line(\"config.txt\")\n"
   ]
  },
  {
   "cell_type": "code",
   "execution_count": null,
   "id": "aa5a1450",
   "metadata": {},
   "outputs": [],
   "source": [
    "### Exercise 34:\n",
    "Write a Python script to count the frequency of each letter in a text file `\"message.txt\"`.\n",
    "​\n",
    "```python\n",
    "# Exercise 34\n",
    "```"
   ]
  },
  {
   "cell_type": "code",
   "execution_count": 58,
   "id": "fdcf870f",
   "metadata": {},
   "outputs": [
    {
     "name": "stdout",
     "output_type": "stream",
     "text": [
      "Letter frequencies in 'message.txt':\n",
      "a: 35\n",
      "b: 2\n",
      "c: 12\n",
      "d: 18\n",
      "e: 66\n",
      "f: 4\n",
      "g: 10\n",
      "h: 6\n",
      "i: 36\n",
      "j: 1\n",
      "l: 30\n",
      "m: 11\n",
      "n: 31\n",
      "o: 21\n",
      "p: 16\n",
      "q: 1\n",
      "r: 24\n",
      "s: 37\n",
      "t: 26\n",
      "u: 17\n",
      "v: 11\n",
      "x: 2\n",
      "y: 2\n",
      "z: 2\n",
      "à: 1\n",
      "é: 18\n"
     ]
    }
   ],
   "source": [
    "# Exercise 34\n",
    "\n",
    "# Open the file in read mode\n",
    "with open(\"message.txt\", \"r\") as file:\n",
    "    content = file.read()\n",
    "\n",
    "# Convert all text to lowercase to count letters uniformly\n",
    "content = content.lower()\n",
    "\n",
    "# Create an empty dictionary to store letter frequencies\n",
    "letter_freq = {}\n",
    "\n",
    "# Count frequency of each letter\n",
    "for char in content:\n",
    "    if char.isalpha():  # consider only alphabetic characters\n",
    "        letter_freq[char] = letter_freq.get(char, 0) + 1\n",
    "\n",
    "# Print the frequency of each letter\n",
    "print(\"Letter frequencies in 'message.txt':\")\n",
    "for letter, freq in sorted(letter_freq.items()):\n",
    "    print(f\"{letter}: {freq}\")\n"
   ]
  },
  {
   "cell_type": "code",
   "execution_count": null,
   "id": "b4ffea9d",
   "metadata": {},
   "outputs": [],
   "source": [
    "### Exercise 35:\n",
    "Write a Python script that reads a file and prints the total number of characters, excluding spaces.\n",
    "​\n",
    "```python\n",
    "# Exercise 35\n",
    "```"
   ]
  },
  {
   "cell_type": "code",
   "execution_count": 60,
   "id": "c70bc425",
   "metadata": {},
   "outputs": [
    {
     "name": "stdout",
     "output_type": "stream",
     "text": [
      "Total number of characters (excluding spaces): 487\n"
     ]
    }
   ],
   "source": [
    "# Exercise 35\n",
    "\n",
    "# Open the file in read mode\n",
    "with open(\"message.txt\", \"r\") as file:\n",
    "    content = file.read()\n",
    "\n",
    "# Remove spaces and count remaining characters\n",
    "char_count = len(content.replace(\" \", \"\").replace(\"\\n\", \"\"))\n",
    "\n",
    "print(f\"Total number of characters (excluding spaces): {char_count}\")\n"
   ]
  },
  {
   "cell_type": "code",
   "execution_count": null,
   "id": "ca339959",
   "metadata": {},
   "outputs": [],
   "source": [
    "### Exercise 36:\n",
    "Create a Python script to check whether a file is empty or not.\n",
    "​\n",
    "```python\n",
    "# Exercise 36\n",
    "```"
   ]
  },
  {
   "cell_type": "code",
   "execution_count": 61,
   "id": "d03bb052",
   "metadata": {},
   "outputs": [
    {
     "name": "stdout",
     "output_type": "stream",
     "text": [
      "The file 'message.txt' is not empty.\n"
     ]
    }
   ],
   "source": [
    "# Exercise 36\n",
    "\n",
    "import os\n",
    "\n",
    "filename = \"message.txt\"\n",
    "\n",
    "# Check if the file exists first\n",
    "if os.path.exists(filename):\n",
    "    # Check if the file is empty\n",
    "    if os.path.getsize(filename) == 0:\n",
    "        print(f\"The file '{filename}' is empty.\")\n",
    "    else:\n",
    "        print(f\"The file '{filename}' is not empty.\")\n",
    "else:\n",
    "    print(f\"The file '{filename}' does not exist.\")\n"
   ]
  },
  {
   "cell_type": "code",
   "execution_count": null,
   "id": "18eb08b2",
   "metadata": {},
   "outputs": [],
   "source": [
    "### Exercise 37:\n",
    "Write a Python function that reads a file and removes all punctuation marks from the text.\n",
    "​\n",
    "```python\n",
    "# Exercise 37\n",
    "```"
   ]
  },
  {
   "cell_type": "code",
   "execution_count": 62,
   "id": "c72429a4",
   "metadata": {},
   "outputs": [
    {
     "name": "stdout",
     "output_type": "stream",
     "text": [
      "All punctuation marks have been removed from 'message.txt'.\n"
     ]
    }
   ],
   "source": [
    "# Exercise 37\n",
    "\n",
    "import string\n",
    "\n",
    "# Function to remove punctuation from 'message.txt'\n",
    "def remove_punctuation_from_message():\n",
    "    filename = \"message.txt\"\n",
    "\n",
    "    # Read the file\n",
    "    with open(filename, \"r\") as file:\n",
    "        content = file.read()\n",
    "\n",
    "    # Remove all punctuation marks\n",
    "    cleaned_text = content.translate(str.maketrans(\"\", \"\", string.punctuation))\n",
    "\n",
    "    # Write the cleaned text back to the same file\n",
    "    with open(filename, \"w\") as file:\n",
    "        file.write(cleaned_text)\n",
    "\n",
    "    print(\"All punctuation marks have been removed from 'message.txt'.\")\n",
    "\n",
    "# Run the function\n",
    "remove_punctuation_from_message()\n"
   ]
  },
  {
   "cell_type": "code",
   "execution_count": null,
   "id": "abd0af71",
   "metadata": {},
   "outputs": [],
   "source": [
    "### Exercise 38:\n",
    "Create a Python function that writes a list of strings to a file, each string on a new line.\n",
    "​\n",
    "```python\n",
    "# Exercise 38\n",
    "```"
   ]
  },
  {
   "cell_type": "code",
   "execution_count": 63,
   "id": "6305026d",
   "metadata": {},
   "outputs": [
    {
     "name": "stdout",
     "output_type": "stream",
     "text": [
      "The list of strings has been written to 'message.txt' successfully.\n"
     ]
    }
   ],
   "source": [
    "# Exercise 38\n",
    "\n",
    "# Function to write a list of strings to 'message.txt', each on a new line\n",
    "def write_to_message_file(strings_list):\n",
    "    filename = \"message.txt\"\n",
    "\n",
    "    # Open the file in write mode\n",
    "    with open(filename, \"w\") as file:\n",
    "        for line in strings_list:\n",
    "            file.write(line + \"\\n\")\n",
    "\n",
    "    print(\"The list of strings has been written to 'message.txt' successfully.\")\n",
    "\n",
    "# Example usage\n",
    "lines = [\n",
    "    \"Learning Python is fun.\",\n",
    "    \"Practice makes perfect.\",\n",
    "    \"Keep improving your skills.\"\n",
    "]\n",
    "\n",
    "write_to_message_file(lines)\n"
   ]
  },
  {
   "cell_type": "code",
   "execution_count": null,
   "id": "02c76422",
   "metadata": {},
   "outputs": [],
   "source": [
    "### Exercise 39:\n",
    "Write a Python script to count the number of lines that start with a specific letter (e.g., \"A\") in a text file.\n",
    "​\n",
    "```python\n",
    "# Exercise 39\n",
    "```"
   ]
  },
  {
   "cell_type": "code",
   "execution_count": 64,
   "id": "63328a1b",
   "metadata": {},
   "outputs": [
    {
     "name": "stdout",
     "output_type": "stream",
     "text": [
      "The number of lines starting with 'A' is: 0\n"
     ]
    }
   ],
   "source": [
    "# Exercise 39\n",
    "\n",
    "# Specify the file name\n",
    "filename = \"message.txt\"\n",
    "\n",
    "# Choose the letter to check (e.g., 'A')\n",
    "letter = \"A\"\n",
    "count = 0\n",
    "\n",
    "# Open the file and read line by line\n",
    "with open(filename, \"r\") as file:\n",
    "    for line in file:\n",
    "        if line.strip().startswith(letter):\n",
    "            count += 1\n",
    "\n",
    "print(f\"The number of lines starting with '{letter}' is: {count}\")\n"
   ]
  },
  {
   "cell_type": "code",
   "execution_count": null,
   "id": "92d7401a",
   "metadata": {},
   "outputs": [],
   "source": [
    "### Exercise 40:\n",
    "Write a Python function that takes a string as input and writes it to a file `\"output.txt\"` in reverse order.\n",
    "​\n",
    "```python\n",
    "# Exercise 40\n",
    "```"
   ]
  },
  {
   "cell_type": "code",
   "execution_count": 65,
   "id": "c6ce5bb2",
   "metadata": {},
   "outputs": [
    {
     "name": "stdout",
     "output_type": "stream",
     "text": [
      "The reversed text has been written to 'output.txt' successfully.\n"
     ]
    }
   ],
   "source": [
    "# Exercise 40\n",
    "\n",
    "# Function to write a reversed string to 'output.txt'\n",
    "def write_reversed_to_file(text):\n",
    "    filename = \"output.txt\"\n",
    "    \n",
    "    # Reverse the string using slicing\n",
    "    reversed_text = text[::-1]\n",
    "    \n",
    "    # Write the reversed string to the file\n",
    "    with open(filename, \"w\") as file:\n",
    "        file.write(reversed_text)\n",
    "    \n",
    "    print(\"The reversed text has been written to 'output.txt' successfully.\")\n",
    "\n",
    "# Example usage\n",
    "input_text = \"Machine learning is powerful\"\n",
    "write_reversed_to_file(input_text)\n"
   ]
  },
  {
   "cell_type": "code",
   "execution_count": null,
   "id": "c2e9d144",
   "metadata": {},
   "outputs": [],
   "source": [
    "### Exercise 41:\n",
    "Write a Python script that reads a file and prints all the lines that contain the word `\"Python\"`.\n",
    "​\n",
    "```python\n",
    "# Exercise 41\n",
    "```"
   ]
  },
  {
   "cell_type": "code",
   "execution_count": 66,
   "id": "cfedef50",
   "metadata": {},
   "outputs": [
    {
     "name": "stdout",
     "output_type": "stream",
     "text": [
      "Lines containing the word 'Python':\n",
      "\n"
     ]
    }
   ],
   "source": [
    "# Exercise 41\n",
    "\n",
    "# Specify the file name\n",
    "filename = \"output.txt\"\n",
    "\n",
    "# Open the file and read line by line\n",
    "with open(filename, \"r\") as file:\n",
    "    print(\"Lines containing the word 'Python':\\n\")\n",
    "    for line in file:\n",
    "        if \"Python\" in line:\n",
    "            print(line.strip())\n"
   ]
  },
  {
   "cell_type": "code",
   "execution_count": null,
   "id": "19952af0",
   "metadata": {},
   "outputs": [],
   "source": [
    "### Exercise 42:\n",
    "Write a Python script that opens a file and removes all numeric digits from the file's content.\n",
    "​\n",
    "```python\n",
    "# Exercise 42\n",
    "```"
   ]
  },
  {
   "cell_type": "code",
   "execution_count": 67,
   "id": "6f2a9d9f",
   "metadata": {},
   "outputs": [
    {
     "name": "stdout",
     "output_type": "stream",
     "text": [
      "All numeric digits have been removed from 'output.txt' successfully.\n"
     ]
    }
   ],
   "source": [
    "# Exercise 42\n",
    "\n",
    "# Specify the file name\n",
    "filename = \"output.txt\"\n",
    "\n",
    "# Open the file and read its content\n",
    "with open(filename, \"r\") as file:\n",
    "    content = file.read()\n",
    "\n",
    "# Remove all numeric digits (0–9)\n",
    "no_digits = ''.join([char for char in content if not char.isdigit()])\n",
    "\n",
    "# Write the cleaned text back to the same file\n",
    "with open(filename, \"w\") as file:\n",
    "    file.write(no_digits)\n",
    "\n",
    "print(\"All numeric digits have been removed from 'output.txt' successfully.\")\n"
   ]
  },
  {
   "cell_type": "code",
   "execution_count": null,
   "id": "5e3856cd",
   "metadata": {},
   "outputs": [],
   "source": [
    "### Exercise 43:\n",
    "Write a Python script to find the most frequent word in a text file `\"book.txt\"`.\n",
    "​\n",
    "```python\n",
    "# Exercise 43\n",
    "```"
   ]
  },
  {
   "cell_type": "code",
   "execution_count": 68,
   "id": "b678f670",
   "metadata": {},
   "outputs": [
    {
     "name": "stdout",
     "output_type": "stream",
     "text": [
      "The most frequent word is 'de' appearing 4 times.\n"
     ]
    }
   ],
   "source": [
    "# Exercise 43\n",
    "\n",
    "from collections import Counter\n",
    "\n",
    "# Specify the file name\n",
    "filename = \"book.txt\"\n",
    "\n",
    "# Open and read the file\n",
    "with open(filename, \"r\") as file:\n",
    "    content = file.read()\n",
    "\n",
    "# Convert text to lowercase and split into words\n",
    "words = content.lower().split()\n",
    "\n",
    "# Count frequency of each word\n",
    "word_count = Counter(words)\n",
    "\n",
    "# Find the most common word\n",
    "most_common_word, frequency = word_count.most_common(1)[0]\n",
    "\n",
    "print(f\"The most frequent word is '{most_common_word}' appearing {frequency} times.\")\n"
   ]
  },
  {
   "cell_type": "code",
   "execution_count": null,
   "id": "cdd02f72",
   "metadata": {},
   "outputs": [],
   "source": [
    "### Exercise 44:\n",
    "Write a Python script that reads a file and prints all the lines that contain exactly 5 words.\n",
    "​\n",
    "```python\n",
    "# Exercise 44\n",
    "```"
   ]
  },
  {
   "cell_type": "code",
   "execution_count": null,
   "id": "5170d926",
   "metadata": {},
   "outputs": [],
   "source": []
  },
  {
   "cell_type": "code",
   "execution_count": null,
   "id": "6f6b672b",
   "metadata": {},
   "outputs": [],
   "source": [
    "### Exercise 45:\n",
    "Write a Python script to read a file and print the first and last line of the file.\n",
    "​\n",
    "```python\n",
    "# Exercise 45\n",
    "```"
   ]
  },
  {
   "cell_type": "code",
   "execution_count": 69,
   "id": "85229a67",
   "metadata": {},
   "outputs": [
    {
     "name": "stdout",
     "output_type": "stream",
     "text": [
      "Lines that contain exactly 5 words:\n",
      "\n"
     ]
    }
   ],
   "source": [
    "# Exercise 44\n",
    "\n",
    "# Specify the file name\n",
    "filename = \"book.txt\"\n",
    "\n",
    "# Open the file and read line by line\n",
    "with open(filename, \"r\") as file:\n",
    "    print(\"Lines that contain exactly 5 words:\\n\")\n",
    "    for line in file:\n",
    "        # Split line into words\n",
    "        words = line.strip().split()\n",
    "        \n",
    "        # Check if the line has exactly 5 words\n",
    "        if len(words) == 5:\n",
    "            print(line.strip())\n"
   ]
  },
  {
   "cell_type": "code",
   "execution_count": null,
   "id": "19a37311",
   "metadata": {},
   "outputs": [],
   "source": [
    "### Exercise 46:\n",
    "Write a Python script that checks if a file `\"students.txt\"` is writable.\n",
    "​\n",
    "```python\n",
    "# Exercise 46\n",
    "```"
   ]
  },
  {
   "cell_type": "code",
   "execution_count": 71,
   "id": "a94c8184",
   "metadata": {},
   "outputs": [
    {
     "name": "stdout",
     "output_type": "stream",
     "text": [
      "The file 'students.txt' is writable.\n"
     ]
    }
   ],
   "source": [
    "# Exercise 46\n",
    "\n",
    "import os\n",
    "\n",
    "# Specify the file name\n",
    "filename = \"students.txt\"\n",
    "\n",
    "# Check if file exists first\n",
    "if os.path.exists(filename):\n",
    "    # Check if the file is writable\n",
    "    if os.access(filename, os.W_OK):\n",
    "        print(f\"The file '{filename}' is writable.\")\n",
    "    else:\n",
    "        print(f\"The file '{filename}' is not writable.\")\n",
    "else:\n",
    "    print(f\"The file '{filename}' does not exist.\")\n"
   ]
  },
  {
   "cell_type": "code",
   "execution_count": null,
   "id": "b1401611",
   "metadata": {},
   "outputs": [],
   "source": [
    "### Exercise 47:\n",
    "Create a Python function that opens a file and returns the number of unique words in the file.\n",
    "​\n",
    "```python\n",
    "# Exercise 47\n",
    "```"
   ]
  },
  {
   "cell_type": "code",
   "execution_count": 72,
   "id": "816c15cf",
   "metadata": {},
   "outputs": [
    {
     "name": "stdout",
     "output_type": "stream",
     "text": [
      "The number of unique words in 'students.txt' is: 65\n"
     ]
    }
   ],
   "source": [
    "# Exercise 47\n",
    "\n",
    "def count_unique_words():\n",
    "    filename = \"students.txt\"\n",
    "    \n",
    "    # Open and read the file\n",
    "    with open(filename, \"r\") as file:\n",
    "        content = file.read()\n",
    "    \n",
    "    # Convert to lowercase and split into words\n",
    "    words = content.lower().split()\n",
    "    \n",
    "    # Create a set to get unique words\n",
    "    unique_words = set(words)\n",
    "    \n",
    "    # Return the number of unique words\n",
    "    return len(unique_words)\n",
    "\n",
    "# Example usage\n",
    "unique_count = count_unique_words()\n",
    "print(f\"The number of unique words in 'students.txt' is: {unique_count}\")\n"
   ]
  },
  {
   "cell_type": "code",
   "execution_count": null,
   "id": "5c3334c3",
   "metadata": {},
   "outputs": [],
   "source": [
    "### Exercise 48:\n",
    "Write a Python script that reads a file and prints all lines in reverse order.\n",
    "​\n",
    "```python\n",
    "# Exercise 48\n",
    "```"
   ]
  },
  {
   "cell_type": "code",
   "execution_count": 73,
   "id": "6635a7f1",
   "metadata": {},
   "outputs": [
    {
     "name": "stdout",
     "output_type": "stream",
     "text": [
      "Lines in reverse order:\n",
      "\n",
      "﻿Le Sénégal maintient une épidémie de VIH à faible prévalence dans la population générale (autour de 0,3-0,7% chez les 15-49 ans), mais elle est concentrée dans certaines zones géographiques et populations clés (travailleurs du sexe, hommes ayant des relations sexuelles avec les hommes, prisonniers). Le pays s'efforce d'atteindre les objectifs de l'ONUSIDA (95-95-95 : dépistage, traitement, suppression virale) et suit l’évolution de l’épidémie avec une dimension individuelle (suivi des traitements, charge virale) et agrégée (la prévalence par région/groupe).\n"
     ]
    }
   ],
   "source": [
    "# Exercise 48\n",
    "\n",
    "# Specify the file name\n",
    "filename = \"students.txt\"\n",
    "\n",
    "# Open the file and read all lines\n",
    "with open(filename, \"r\") as file:\n",
    "    lines = file.readlines()\n",
    "\n",
    "# Print lines in reverse order\n",
    "print(\"Lines in reverse order:\\n\")\n",
    "for line in reversed(lines):\n",
    "    print(line.strip())\n"
   ]
  },
  {
   "cell_type": "code",
   "execution_count": null,
   "id": "a52e44c8",
   "metadata": {},
   "outputs": [],
   "source": [
    "### Exercise 49:\n",
    "Write a Python function that reads a file and returns the most common letter in the text.\n",
    "​\n",
    "```python\n",
    "# Exercise 49\n",
    "```"
   ]
  },
  {
   "cell_type": "code",
   "execution_count": 74,
   "id": "48283695",
   "metadata": {},
   "outputs": [
    {
     "name": "stdout",
     "output_type": "stream",
     "text": [
      "The most common letter in 'students.txt' is 'e' (appears 66 times).\n"
     ]
    }
   ],
   "source": [
    "# Exercise 49\n",
    "\n",
    "from collections import Counter\n",
    "\n",
    "def most_common_letter():\n",
    "    filename = \"students.txt\"\n",
    "    \n",
    "    # Open and read the file\n",
    "    with open(filename, \"r\") as file:\n",
    "        content = file.read()\n",
    "    \n",
    "    # Keep only letters and convert to lowercase\n",
    "    letters = [char.lower() for char in content if char.isalpha()]\n",
    "    \n",
    "    # Count frequency of each letter\n",
    "    letter_count = Counter(letters)\n",
    "    \n",
    "    # Find the most common letter\n",
    "    most_common = letter_count.most_common(1)[0]\n",
    "    \n",
    "    return most_common\n",
    "\n",
    "# Example usage\n",
    "letter, frequency = most_common_letter()\n",
    "print(f\"The most common letter in 'students.txt' is '{letter}' (appears {frequency} times).\")\n"
   ]
  },
  {
   "cell_type": "code",
   "execution_count": null,
   "id": "2b75e291",
   "metadata": {},
   "outputs": [],
   "source": [
    "### Exercise 50:\n",
    "Write a Python script that reads a file and replaces every occurrence of `\"Python\"` with `\"Java\"`.\n",
    "​\n",
    "```python\n",
    "# Exercise 50\n",
    "```"
   ]
  },
  {
   "cell_type": "code",
   "execution_count": 75,
   "id": "8863bc73",
   "metadata": {},
   "outputs": [
    {
     "name": "stdout",
     "output_type": "stream",
     "text": [
      "All occurrences of 'Python' have been replaced with 'Java' in 'students.txt'.\n"
     ]
    }
   ],
   "source": [
    "# Exercise 50\n",
    "\n",
    "# Specify the file name\n",
    "filename = \"students.txt\"\n",
    "\n",
    "# Open the file and read its content\n",
    "with open(filename, \"r\") as file:\n",
    "    content = file.read()\n",
    "\n",
    "# Replace every occurrence of \"Python\" with \"Java\"\n",
    "updated_content = content.replace(\"Python\", \"Java\")\n",
    "\n",
    "# Write the updated content back to the file\n",
    "with open(filename, \"w\") as file:\n",
    "    file.write(updated_content)\n",
    "\n",
    "print(\"All occurrences of 'Python' have been replaced with 'Java' in 'students.txt'.\")\n"
   ]
  },
  {
   "cell_type": "code",
   "execution_count": null,
   "id": "d095df42",
   "metadata": {},
   "outputs": [],
   "source": []
  }
 ],
 "metadata": {
  "kernelspec": {
   "display_name": "Python 3 (ipykernel)",
   "language": "python",
   "name": "python3"
  },
  "language_info": {
   "codemirror_mode": {
    "name": "ipython",
    "version": 3
   },
   "file_extension": ".py",
   "mimetype": "text/x-python",
   "name": "python",
   "nbconvert_exporter": "python",
   "pygments_lexer": "ipython3",
   "version": "3.12.3"
  }
 },
 "nbformat": 4,
 "nbformat_minor": 5
}
