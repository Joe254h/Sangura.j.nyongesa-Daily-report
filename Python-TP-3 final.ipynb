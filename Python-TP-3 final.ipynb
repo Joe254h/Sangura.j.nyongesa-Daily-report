{
 "cells": [
  {
   "cell_type": "markdown",
   "id": "d68c1dee",
   "metadata": {
    "id": "d68c1dee"
   },
   "source": [
    "# Practical_3: Iterable objects or Containers"
   ]
  },
  {
   "cell_type": "markdown",
   "id": "7ef961e2",
   "metadata": {
    "id": "7ef961e2"
   },
   "source": [
    "---\n",
    "\n",
    "### Exercise 1:\n",
    "Create a list of integers from 1 to 10.\n",
    "\n",
    "```python\n",
    "# Exercise 1\n",
    "```"
   ]
  },
  {
   "cell_type": "code",
   "execution_count": 1,
   "id": "603dd27e",
   "metadata": {
    "colab": {
     "base_uri": "https://localhost:8080/"
    },
    "executionInfo": {
     "elapsed": 40,
     "status": "ok",
     "timestamp": 1760714459432,
     "user": {
      "displayName": "Sangura JOEL Nyongesa",
      "userId": "07932560821536402568"
     },
     "user_tz": 0
    },
    "id": "603dd27e",
    "outputId": "d1fe04fb-275d-4123-f413-40f877cf12ff"
   },
   "outputs": [
    {
     "name": "stdout",
     "output_type": "stream",
     "text": [
      "[1, 2, 3, 4, 5, 6, 7, 8, 9, 10] <class 'list'>\n"
     ]
    }
   ],
   "source": [
    "list_1 = [1, 2, 3, 4, 5, 6, 7, 8, 9, 10]\n",
    "print (list_1, type(list_1))"
   ]
  },
  {
   "cell_type": "markdown",
   "id": "067b6504",
   "metadata": {
    "id": "067b6504"
   },
   "source": [
    "---\n",
    "\n",
    "### Exercise 2:\n",
    "Create a tuple containing the elements `\"apple\"`, `\"banana\"`, and `\"cherry\"`.\n",
    "\n",
    "```python\n",
    "# Exercise 2\n",
    "```"
   ]
  },
  {
   "cell_type": "code",
   "execution_count": 3,
   "id": "5125ad68",
   "metadata": {
    "colab": {
     "base_uri": "https://localhost:8080/"
    },
    "executionInfo": {
     "elapsed": 19,
     "status": "ok",
     "timestamp": 1760714478019,
     "user": {
      "displayName": "Sangura JOEL Nyongesa",
      "userId": "07932560821536402568"
     },
     "user_tz": 0
    },
    "id": "5125ad68",
    "outputId": "c2393bf4-d835-4dfa-bc15-a70ec5f2533f"
   },
   "outputs": [
    {
     "name": "stdout",
     "output_type": "stream",
     "text": [
      "('apple', 'banana', 'tomatoes') <class 'tuple'>\n"
     ]
    }
   ],
   "source": [
    "fruits = (\"apple\", \"banana\", \"tomatoes\")\n",
    "print (fruits, type(fruits))"
   ]
  },
  {
   "cell_type": "markdown",
   "id": "3f123af2",
   "metadata": {
    "id": "3f123af2"
   },
   "source": [
    "---\n",
    "\n",
    "### Exercise 3:\n",
    "Convert the list `numbers = [10, 20, 30, 40]` into a tuple.\n",
    "\n",
    "```python\n",
    "# Exercise 3\n",
    "```"
   ]
  },
  {
   "cell_type": "code",
   "execution_count": 5,
   "id": "baa2ebc3",
   "metadata": {
    "colab": {
     "base_uri": "https://localhost:8080/"
    },
    "executionInfo": {
     "elapsed": 10,
     "status": "ok",
     "timestamp": 1760714506576,
     "user": {
      "displayName": "Sangura JOEL Nyongesa",
      "userId": "07932560821536402568"
     },
     "user_tz": 0
    },
    "id": "baa2ebc3",
    "outputId": "55e8e3e2-86c2-48a3-976b-8b0674568e3c"
   },
   "outputs": [
    {
     "name": "stdout",
     "output_type": "stream",
     "text": [
      "(10, 20, 34, 40) <class 'tuple'>\n"
     ]
    }
   ],
   "source": [
    "numbers = (10, 20, 34, 40)\n",
    "print (numbers, type(numbers))"
   ]
  },
  {
   "cell_type": "markdown",
   "id": "361f09ad",
   "metadata": {
    "id": "361f09ad"
   },
   "source": [
    "---\n",
    "\n",
    "### Exercise 4:\n",
    "Create a set containing the elements `1, 2, 3, 4, 5`.\n",
    "\n",
    "```python\n",
    "# Exercise 4\n",
    "```"
   ]
  },
  {
   "cell_type": "code",
   "execution_count": 6,
   "id": "b67b2623",
   "metadata": {
    "colab": {
     "base_uri": "https://localhost:8080/"
    },
    "executionInfo": {
     "elapsed": 18,
     "status": "ok",
     "timestamp": 1760714511171,
     "user": {
      "displayName": "Sangura JOEL Nyongesa",
      "userId": "07932560821536402568"
     },
     "user_tz": 0
    },
    "id": "b67b2623",
    "outputId": "49f5c6b0-3931-45ad-fdb6-802259b5b8bd"
   },
   "outputs": [
    {
     "name": "stdout",
     "output_type": "stream",
     "text": [
      "[1, 2, 4, 5, 6] <class 'list'>\n"
     ]
    }
   ],
   "source": [
    "set_1 = [1, 2, 4, 5, 6]\n",
    "print(set_1, type(set_1))"
   ]
  },
  {
   "cell_type": "markdown",
   "id": "2ef38222",
   "metadata": {
    "id": "2ef38222"
   },
   "source": [
    "---\n",
    "\n",
    "### Exercise 5:\n",
    "Create a dictionary `student` with the keys `\"name\"`, `\"age\"`, and `\"grade\"` and corresponding values `\"Alice\"`, `20`, and `\"A\"`.\n",
    "\n",
    "```python\n",
    "# Exercise 5\n",
    "```"
   ]
  },
  {
   "cell_type": "code",
   "execution_count": 7,
   "id": "8e25acba",
   "metadata": {
    "colab": {
     "base_uri": "https://localhost:8080/"
    },
    "executionInfo": {
     "elapsed": 26,
     "status": "ok",
     "timestamp": 1760714517018,
     "user": {
      "displayName": "Sangura JOEL Nyongesa",
      "userId": "07932560821536402568"
     },
     "user_tz": 0
    },
    "id": "8e25acba",
    "outputId": "ebebf871-ca22-4e4b-96a5-bc2cd625b388"
   },
   "outputs": [
    {
     "name": "stdout",
     "output_type": "stream",
     "text": [
      "{'name': 'Alice', 'age': 20, 'grade': 'A'} <class 'dict'>\n"
     ]
    }
   ],
   "source": [
    "student = {\"name\": \"Alice\", \"age\": 20 ,\"grade\": \"A\"}\n",
    "print (student, type(student))"
   ]
  },
  {
   "cell_type": "markdown",
   "id": "8cbd2b44",
   "metadata": {
    "id": "8cbd2b44"
   },
   "source": [
    "---\n",
    "\n",
    "### Exercise 6:\n",
    "Access the second element of the list `[10, 20, 30, 40, 50]` using indexing.\n",
    "\n",
    "```python\n",
    "# Exercise 6\n",
    "```"
   ]
  },
  {
   "cell_type": "code",
   "execution_count": 8,
   "id": "ef390ab3",
   "metadata": {
    "colab": {
     "base_uri": "https://localhost:8080/"
    },
    "executionInfo": {
     "elapsed": 30,
     "status": "ok",
     "timestamp": 1760714522390,
     "user": {
      "displayName": "Sangura JOEL Nyongesa",
      "userId": "07932560821536402568"
     },
     "user_tz": 0
    },
    "id": "ef390ab3",
    "outputId": "eae72b1b-032f-491f-b010-c746890373e2"
   },
   "outputs": [
    {
     "name": "stdout",
     "output_type": "stream",
     "text": [
      "20 <class 'list'>\n"
     ]
    }
   ],
   "source": [
    "list_r = [10, 20, 30, 40, 50]\n",
    "print(list_r[1], type(list_r))"
   ]
  },
  {
   "cell_type": "markdown",
   "id": "8e723209",
   "metadata": {
    "id": "8e723209"
   },
   "source": [
    "---\n",
    "\n",
    "### Exercise 7:\n",
    "Change the third element of the list `fruits = [\"apple\", \"banana\", \"cherry\", \"orange\"]` to `\"mango\"`.\n",
    "\n",
    "```python\n",
    "# Exercise 7\n",
    "```"
   ]
  },
  {
   "cell_type": "code",
   "execution_count": 9,
   "id": "ee71145a",
   "metadata": {
    "colab": {
     "base_uri": "https://localhost:8080/"
    },
    "executionInfo": {
     "elapsed": 104,
     "status": "ok",
     "timestamp": 1760714549881,
     "user": {
      "displayName": "Sangura JOEL Nyongesa",
      "userId": "07932560821536402568"
     },
     "user_tz": 0
    },
    "id": "ee71145a",
    "outputId": "e050cb20-8e34-43ce-dcb3-88d87a9113ab"
   },
   "outputs": [
    {
     "name": "stdout",
     "output_type": "stream",
     "text": [
      "['apple', 'banana', 'mango', 'orange']\n"
     ]
    }
   ],
   "source": [
    "fruits = [\"apple\", \"banana\", \"cherry\", \"orange\"]\n",
    "fruits[2] = \"mango\"\n",
    "print(fruits)"
   ]
  },
  {
   "cell_type": "markdown",
   "id": "0d8006fc",
   "metadata": {
    "id": "0d8006fc"
   },
   "source": [
    "---\n",
    "\n",
    "### Exercise 8:\n",
    "Add the number `6` to the set `numbers = {1, 2, 3, 4, 5}`.\n",
    "\n",
    "```python\n",
    "# Exercise 8\n",
    "```"
   ]
  },
  {
   "cell_type": "code",
   "execution_count": 10,
   "id": "f1281df9",
   "metadata": {
    "colab": {
     "base_uri": "https://localhost:8080/"
    },
    "executionInfo": {
     "elapsed": 19,
     "status": "ok",
     "timestamp": 1760714843265,
     "user": {
      "displayName": "Sangura JOEL Nyongesa",
      "userId": "07932560821536402568"
     },
     "user_tz": 0
    },
    "id": "f1281df9",
    "outputId": "d79f4a34-7a7c-440b-b06c-e96f6bdbcb92"
   },
   "outputs": [
    {
     "name": "stdout",
     "output_type": "stream",
     "text": [
      "{1, 2, 3, 4, 5, 6}\n"
     ]
    }
   ],
   "source": [
    "set_5 = {1, 2, 3, 4, 5}\n",
    "set_5.add(6)\n",
    "print(set_5)"
   ]
  },
  {
   "cell_type": "markdown",
   "id": "7b1eb6d1",
   "metadata": {
    "id": "7b1eb6d1"
   },
   "source": [
    "---\n",
    "\n",
    "### Exercise 9:\n",
    "Remove the key `\"age\"` from the dictionary `person = {\"name\": \"John\", \"age\": 25, \"city\": \"New York\"}`.\n",
    "\n",
    "```python\n",
    "# Exercise 9\n",
    "```"
   ]
  },
  {
   "cell_type": "code",
   "execution_count": 11,
   "id": "b8c72b45",
   "metadata": {
    "colab": {
     "base_uri": "https://localhost:8080/"
    },
    "executionInfo": {
     "elapsed": 49,
     "status": "ok",
     "timestamp": 1760714944679,
     "user": {
      "displayName": "Sangura JOEL Nyongesa",
      "userId": "07932560821536402568"
     },
     "user_tz": 0
    },
    "id": "b8c72b45",
    "outputId": "a2534212-51d6-46f1-ac67-d6ae5f9e171c"
   },
   "outputs": [
    {
     "name": "stdout",
     "output_type": "stream",
     "text": [
      "{'name': 'John', 'city': 'New York'}\n"
     ]
    }
   ],
   "source": [
    "person = {\"name\": \"John\", \"age\": 25, \"city\": \"New York\"}\n",
    "del person[\"age\"]\n",
    "print(person)"
   ]
  },
  {
   "cell_type": "markdown",
   "id": "3e915988",
   "metadata": {
    "id": "3e915988"
   },
   "source": [
    "---\n",
    "\n",
    "### Exercise 10:\n",
    "Create a range object starting from 0 to 9.\n",
    "\n",
    "```python\n",
    "# Exercise 10\n",
    "```"
   ]
  },
  {
   "cell_type": "code",
   "execution_count": 12,
   "id": "6b95a3e6",
   "metadata": {
    "colab": {
     "base_uri": "https://localhost:8080/"
    },
    "executionInfo": {
     "elapsed": 10,
     "status": "ok",
     "timestamp": 1760715024210,
     "user": {
      "displayName": "Sangura JOEL Nyongesa",
      "userId": "07932560821536402568"
     },
     "user_tz": 0
    },
    "id": "6b95a3e6",
    "outputId": "a78810ff-adbc-4323-8350-5428e5d44ed9"
   },
   "outputs": [
    {
     "name": "stdout",
     "output_type": "stream",
     "text": [
      "range(0, 10)\n"
     ]
    }
   ],
   "source": [
    "range_object = range(10)\n",
    "print(range_object)"
   ]
  },
  {
   "cell_type": "markdown",
   "id": "1502644c",
   "metadata": {
    "id": "1502644c"
   },
   "source": [
    "---\n",
    "\n",
    "### Exercise 11:\n",
    "Use a list comprehension to create a list of squares of numbers from 1 to 10.\n",
    "\n",
    "```python\n",
    "# Exercise 11\n",
    "```"
   ]
  },
  {
   "cell_type": "code",
   "execution_count": 13,
   "id": "83f5c01b",
   "metadata": {
    "colab": {
     "base_uri": "https://localhost:8080/"
    },
    "executionInfo": {
     "elapsed": 9,
     "status": "ok",
     "timestamp": 1760715087176,
     "user": {
      "displayName": "Sangura JOEL Nyongesa",
      "userId": "07932560821536402568"
     },
     "user_tz": 0
    },
    "id": "83f5c01b",
    "outputId": "6770ddc4-1113-4c74-ea2f-5b9ab2003675"
   },
   "outputs": [
    {
     "name": "stdout",
     "output_type": "stream",
     "text": [
      "[1, 4, 9, 16, 25, 36, 49, 64, 81, 100]\n"
     ]
    }
   ],
   "source": [
    "list_t = [1, 2, 3, 4, 5, 6, 7, 8, 9, 10]\n",
    "new_list_t = [i**2 for i in list_t]\n",
    "print(new_list_t)"
   ]
  },
  {
   "cell_type": "markdown",
   "id": "1520e631",
   "metadata": {
    "id": "1520e631"
   },
   "source": [
    "---\n",
    "\n",
    "### Exercise 12:\n",
    "Create a tuple of even numbers between 2 and 10 using a tuple comprehension.\n",
    "\n",
    "```python\n",
    "# Exercise 12\n",
    "```"
   ]
  },
  {
   "cell_type": "code",
   "execution_count": 14,
   "id": "077693b4",
   "metadata": {
    "colab": {
     "base_uri": "https://localhost:8080/"
    },
    "executionInfo": {
     "elapsed": 43,
     "status": "ok",
     "timestamp": 1760715101282,
     "user": {
      "displayName": "Sangura JOEL Nyongesa",
      "userId": "07932560821536402568"
     },
     "user_tz": 0
    },
    "id": "077693b4",
    "outputId": "627fbc33-a5d2-4cc9-9576-6f12f699c5fe"
   },
   "outputs": [
    {
     "name": "stdout",
     "output_type": "stream",
     "text": [
      "(2, 4, 6, 8, 10) <class 'tuple'>\n"
     ]
    }
   ],
   "source": [
    "tuple_1 = (2, 4, 6, 8, 10)\n",
    "print(tuple_1, type(tuple_1))"
   ]
  },
  {
   "cell_type": "markdown",
   "id": "2b65bd63",
   "metadata": {
    "id": "2b65bd63"
   },
   "source": [
    "---\n",
    "\n",
    "### Exercise 13:\n",
    "Use a for loop to iterate through the list `fruits = [\"apple\", \"banana\", \"cherry\"]` and print each element.\n",
    "\n",
    "```python\n",
    "# Exercise 13\n",
    "```"
   ]
  },
  {
   "cell_type": "code",
   "execution_count": 15,
   "id": "60e77abd",
   "metadata": {
    "colab": {
     "base_uri": "https://localhost:8080/"
    },
    "executionInfo": {
     "elapsed": 69,
     "status": "ok",
     "timestamp": 1760715119974,
     "user": {
      "displayName": "Sangura JOEL Nyongesa",
      "userId": "07932560821536402568"
     },
     "user_tz": 0
    },
    "id": "60e77abd",
    "outputId": "a0d753f9-e86a-4db4-e770-c6161ca73cd5"
   },
   "outputs": [
    {
     "name": "stdout",
     "output_type": "stream",
     "text": [
      "apple\n",
      "banana\n",
      "cherry\n"
     ]
    }
   ],
   "source": [
    "fruits_1 = [\"apple\", \"banana\", \"cherry\"]\n",
    "for fruit in fruits_1:\n",
    "    print(fruit)"
   ]
  },
  {
   "cell_type": "markdown",
   "id": "00080cd0",
   "metadata": {
    "id": "00080cd0"
   },
   "source": [
    "---\n",
    "\n",
    "### Exercise 14:\n",
    "Check if the value `3` exists in the set `numbers = {1, 2, 3, 4, 5}`.\n",
    "\n",
    "```python\n",
    "# Exercise 14\n",
    "```"
   ]
  },
  {
   "cell_type": "code",
   "execution_count": 16,
   "id": "bf499e25",
   "metadata": {
    "colab": {
     "base_uri": "https://localhost:8080/"
    },
    "executionInfo": {
     "elapsed": 43,
     "status": "ok",
     "timestamp": 1760715152452,
     "user": {
      "displayName": "Sangura JOEL Nyongesa",
      "userId": "07932560821536402568"
     },
     "user_tz": 0
    },
    "id": "bf499e25",
    "outputId": "206fee22-fefd-4424-c421-cef4fe558fce"
   },
   "outputs": [
    {
     "name": "stdout",
     "output_type": "stream",
     "text": [
      "3 exists in the set.\n"
     ]
    }
   ],
   "source": [
    "numbers = {1, 2, 3, 4, 5}\n",
    "if 3 in numbers:\n",
    "    print(\"3 exists in the set.\")\n",
    "else:\n",
    "    print(\"3 does not exist in the set.\")"
   ]
  },
  {
   "cell_type": "markdown",
   "id": "51b6bf0d",
   "metadata": {
    "id": "51b6bf0d"
   },
   "source": [
    "---\n",
    "\n",
    "### Exercise 15:\n",
    "Use the `len()` function to find the length of the tuple `numbers = (10, 20, 30)`.\n",
    "\n",
    "```python\n",
    "# Exercise 15\n",
    "```"
   ]
  },
  {
   "cell_type": "code",
   "execution_count": 17,
   "id": "63bc1a7d",
   "metadata": {
    "colab": {
     "base_uri": "https://localhost:8080/"
    },
    "executionInfo": {
     "elapsed": 9,
     "status": "ok",
     "timestamp": 1760715165069,
     "user": {
      "displayName": "Sangura JOEL Nyongesa",
      "userId": "07932560821536402568"
     },
     "user_tz": 0
    },
    "id": "63bc1a7d",
    "outputId": "74faf02c-db5e-447d-8fa1-a3715e541f2f"
   },
   "outputs": [
    {
     "name": "stdout",
     "output_type": "stream",
     "text": [
      "3\n"
     ]
    }
   ],
   "source": [
    "numbers = (10, 20, 30)\n",
    "length = len(numbers)\n",
    "print(length)"
   ]
  },
  {
   "cell_type": "markdown",
   "id": "3aa1acfe",
   "metadata": {
    "id": "3aa1acfe"
   },
   "source": [
    "---\n",
    "\n",
    "### Exercise 16:\n",
    "Add the value `100` at the end of the list `scores = [80, 85, 90, 95]`.\n",
    "\n",
    "```python\n",
    "# Exercise 16\n",
    "```"
   ]
  },
  {
   "cell_type": "code",
   "execution_count": 18,
   "id": "bae6908b",
   "metadata": {
    "colab": {
     "base_uri": "https://localhost:8080/"
    },
    "executionInfo": {
     "elapsed": 31,
     "status": "ok",
     "timestamp": 1760715183576,
     "user": {
      "displayName": "Sangura JOEL Nyongesa",
      "userId": "07932560821536402568"
     },
     "user_tz": 0
    },
    "id": "bae6908b",
    "outputId": "d56a5927-d530-4d10-c0e6-a3c4db4a05ec"
   },
   "outputs": [
    {
     "name": "stdout",
     "output_type": "stream",
     "text": [
      "[80, 85, 90, 95, 100]\n"
     ]
    }
   ],
   "source": [
    "scores = [80, 85, 90, 95]\n",
    "scores.append(100)\n",
    "print(scores)"
   ]
  },
  {
   "cell_type": "markdown",
   "id": "8b31c289",
   "metadata": {
    "id": "8b31c289"
   },
   "source": [
    "---\n",
    "\n",
    "### Exercise 17:\n",
    "Write a function that takes a list as input and returns the sum of all elements in the list.\n",
    "\n",
    "```python\n",
    "# Exercise 17\n",
    "```"
   ]
  },
  {
   "cell_type": "code",
   "execution_count": 20,
   "id": "92c3c650",
   "metadata": {
    "executionInfo": {
     "elapsed": 7,
     "status": "ok",
     "timestamp": 1760715279618,
     "user": {
      "displayName": "Sangura JOEL Nyongesa",
      "userId": "07932560821536402568"
     },
     "user_tz": 0
    },
    "id": "92c3c650"
   },
   "outputs": [
    {
     "name": "stdout",
     "output_type": "stream",
     "text": [
      "The sum of the list is: 15\n"
     ]
    }
   ],
   "source": [
    "def sum_of_list(input_list):\n",
    "  \"\"\"Calculates the sum of all elements in a list.\"\"\"\n",
    "  return sum(input_list)\n",
    "my_list = [1, 2, 3, 4, 5]\n",
    "total = sum_of_list(my_list)\n",
    "print(f\"The sum of the list is: {total}\")"
   ]
  },
  {
   "cell_type": "markdown",
   "id": "f5d96e64",
   "metadata": {
    "id": "f5d96e64"
   },
   "source": [
    "---\n",
    "\n",
    "### Exercise 18:\n",
    "Create a set containing the unique elements of the list `numbers = [1, 2, 2, 3, 4, 4, 5]`.\n",
    "\n",
    "```python\n",
    "# Exercise 18\n",
    "```"
   ]
  },
  {
   "cell_type": "code",
   "execution_count": 21,
   "id": "7a8cdf35",
   "metadata": {
    "colab": {
     "base_uri": "https://localhost:8080/"
    },
    "executionInfo": {
     "elapsed": 19,
     "status": "ok",
     "timestamp": 1760715375674,
     "user": {
      "displayName": "Sangura JOEL Nyongesa",
      "userId": "07932560821536402568"
     },
     "user_tz": 0
    },
    "id": "7a8cdf35",
    "outputId": "92336d6e-0812-4e9b-fbe7-217f6218d641"
   },
   "outputs": [
    {
     "name": "stdout",
     "output_type": "stream",
     "text": [
      "{1, 2, 3, 4, 5}\n"
     ]
    }
   ],
   "source": [
    "number_3 = [1, 2, 2, 3, 4, 4, 5]\n",
    "unique_numbers = set(number_3)\n",
    "print(unique_numbers)"
   ]
  },
  {
   "cell_type": "markdown",
   "id": "6e11ced9",
   "metadata": {
    "id": "6e11ced9"
   },
   "source": [
    "---\n",
    "\n",
    "### Exercise 19:\n",
    "Convert the string `\"hello\"` into a list of characters.\n",
    "\n",
    "```python\n",
    "# Exercise 19\n",
    "```"
   ]
  },
  {
   "cell_type": "code",
   "execution_count": 22,
   "id": "1d0ff825",
   "metadata": {
    "colab": {
     "base_uri": "https://localhost:8080/"
    },
    "executionInfo": {
     "elapsed": 8,
     "status": "ok",
     "timestamp": 1760715424604,
     "user": {
      "displayName": "Sangura JOEL Nyongesa",
      "userId": "07932560821536402568"
     },
     "user_tz": 0
    },
    "id": "1d0ff825",
    "outputId": "ab4f39b8-aaca-4c74-83ae-a0ff1a6ecfdc"
   },
   "outputs": [
    {
     "name": "stdout",
     "output_type": "stream",
     "text": [
      "['h', 'e', 'l', 'l', 'o']\n"
     ]
    }
   ],
   "source": [
    "string = \"hello\"\n",
    "list_of_characters = list(string)\n",
    "print(list_of_characters)"
   ]
  },
  {
   "cell_type": "markdown",
   "id": "3eb3f514",
   "metadata": {
    "id": "3eb3f514"
   },
   "source": [
    "---\n",
    "\n",
    "### Exercise 20:\n",
    "Write a Python function that reverses a tuple `(1, 2, 3, 4)`.\n",
    "\n",
    "```python\n",
    "# Exercise 20\n",
    "```"
   ]
  },
  {
   "cell_type": "code",
   "execution_count": 23,
   "id": "9dca127a",
   "metadata": {
    "colab": {
     "base_uri": "https://localhost:8080/"
    },
    "executionInfo": {
     "elapsed": 18,
     "status": "ok",
     "timestamp": 1760715489310,
     "user": {
      "displayName": "Sangura JOEL Nyongesa",
      "userId": "07932560821536402568"
     },
     "user_tz": 0
    },
    "id": "9dca127a",
    "outputId": "ca727007-ee61-4d99-f2cd-686cd6c2494e"
   },
   "outputs": [
    {
     "name": "stdout",
     "output_type": "stream",
     "text": [
      "(4, 3, 2, 1)\n"
     ]
    }
   ],
   "source": [
    "def reverse_tuple(input_tuple):\n",
    "  \"\"\"Reverses a tuple.\"\"\"\n",
    "  return tuple(input_tuple[::-1])\n",
    "\n",
    "my_tuple = (1, 2, 3, 4)\n",
    "reversed_tuple = reverse_tuple(my_tuple)\n",
    "print(reversed_tuple)"
   ]
  },
  {
   "cell_type": "markdown",
   "id": "12261dcc",
   "metadata": {
    "id": "12261dcc"
   },
   "source": [
    "---\n",
    "\n",
    "### Exercise 21:\n",
    "Merge two dictionaries `dict1 = {\"a\": 1, \"b\": 2}` and `dict2 = {\"c\": 3, \"d\": 4}` into a single dictionary.\n",
    "\n",
    "```python\n",
    "# Exercise 21\n",
    "```"
   ]
  },
  {
   "cell_type": "code",
   "execution_count": 24,
   "id": "faab66fb",
   "metadata": {
    "colab": {
     "base_uri": "https://localhost:8080/"
    },
    "executionInfo": {
     "elapsed": 8,
     "status": "ok",
     "timestamp": 1760715521786,
     "user": {
      "displayName": "Sangura JOEL Nyongesa",
      "userId": "07932560821536402568"
     },
     "user_tz": 0
    },
    "id": "faab66fb",
    "outputId": "b9c2e312-78e6-4258-e3df-2c540c288612"
   },
   "outputs": [
    {
     "name": "stdout",
     "output_type": "stream",
     "text": [
      "{'a': 1, 'b': 2, 'c': 3, 'd': 4}\n"
     ]
    }
   ],
   "source": [
    "dict1 = {\"a\": 1, \"b\": 2}\n",
    "dict2 = {\"c\": 3, \"d\": 4}\n",
    "new_dict = {**dict1, **dict2}\n",
    "print(new_dict)"
   ]
  },
  {
   "cell_type": "markdown",
   "id": "8558d42c",
   "metadata": {
    "id": "8558d42c"
   },
   "source": [
    "---\n",
    "\n",
    "### Exercise 22:\n",
    "Create a dictionary where keys are numbers from 1 to 5, and values are their squares.\n",
    "\n",
    "```python\n",
    "# Exercise 22\n",
    "```"
   ]
  },
  {
   "cell_type": "code",
   "execution_count": 25,
   "id": "3b1800fd",
   "metadata": {
    "colab": {
     "base_uri": "https://localhost:8080/"
    },
    "executionInfo": {
     "elapsed": 47,
     "status": "ok",
     "timestamp": 1760715580050,
     "user": {
      "displayName": "Sangura JOEL Nyongesa",
      "userId": "07932560821536402568"
     },
     "user_tz": 0
    },
    "id": "3b1800fd",
    "outputId": "63ee558e-f0c4-4399-ab6b-939bd74431bc"
   },
   "outputs": [
    {
     "name": "stdout",
     "output_type": "stream",
     "text": [
      "{1: 1, 2: 4, 3: 9, 4: 16, 5: 25}\n"
     ]
    }
   ],
   "source": [
    "squares_dict = {num: num**2 for num in range(1, 6)}\n",
    "print(squares_dict)"
   ]
  },
  {
   "cell_type": "markdown",
   "id": "9a59fbd7",
   "metadata": {
    "id": "9a59fbd7"
   },
   "source": [
    "---\n",
    "\n",
    "### Exercise 23:\n",
    "Write a Python program to iterate through a dictionary and print each key-value pair.\n",
    "\n",
    "```python\n",
    "# Exercise 23\n",
    "```"
   ]
  },
  {
   "cell_type": "code",
   "execution_count": 26,
   "id": "4091a0dc",
   "metadata": {
    "colab": {
     "base_uri": "https://localhost:8080/"
    },
    "executionInfo": {
     "elapsed": 10,
     "status": "ok",
     "timestamp": 1760715985902,
     "user": {
      "displayName": "Sangura JOEL Nyongesa",
      "userId": "07932560821536402568"
     },
     "user_tz": 0
    },
    "id": "4091a0dc",
    "outputId": "5625677f-7364-4e15-9f20-5d5acfd62171"
   },
   "outputs": [
    {
     "name": "stdout",
     "output_type": "stream",
     "text": [
      "name: Alice\n",
      "age: 30\n",
      "city: London\n"
     ]
    }
   ],
   "source": [
    "my_dict = {\"name\": \"Alice\", \"age\": 30, \"city\": \"London\"}\n",
    "for key, value in my_dict.items():\n",
    "  print(f\"{key}: {value}\")"
   ]
  },
  {
   "cell_type": "markdown",
   "id": "b64c090a",
   "metadata": {
    "id": "b64c090a"
   },
   "source": [
    "---\n",
    "\n",
    "### Exercise 24:\n",
    "Create a list of the first 5 letters of the alphabet using the `chr()` function.\n",
    "\n",
    "```python\n",
    "# Exercise 24\n",
    "```"
   ]
  },
  {
   "cell_type": "code",
   "execution_count": 27,
   "id": "c5e7d7dd",
   "metadata": {
    "colab": {
     "base_uri": "https://localhost:8080/"
    },
    "executionInfo": {
     "elapsed": 10,
     "status": "ok",
     "timestamp": 1760716007987,
     "user": {
      "displayName": "Sangura JOEL Nyongesa",
      "userId": "07932560821536402568"
     },
     "user_tz": 0
    },
    "id": "c5e7d7dd",
    "outputId": "1bd3cb1f-83e7-4970-b706-1d8c1fce3a24"
   },
   "outputs": [
    {
     "name": "stdout",
     "output_type": "stream",
     "text": [
      "['a', 'b', 'c', 'd', 'e']\n"
     ]
    }
   ],
   "source": [
    "alphabet_list = [chr(i) for i in range(ord('a'), ord('a') + 5)]\n",
    "print(alphabet_list)"
   ]
  },
  {
   "cell_type": "markdown",
   "id": "136f04f9",
   "metadata": {
    "id": "136f04f9"
   },
   "source": [
    "---\n",
    "\n",
    "### Exercise 25:\n",
    "Use the `zip()` function to combine two lists `[1, 2, 3]` and `[\"a\", \"b\", \"c\"]` into a list of tuples.\n",
    "\n",
    "```python\n",
    "# Exercise 25\n",
    "```"
   ]
  },
  {
   "cell_type": "code",
   "execution_count": 28,
   "id": "e4f0fd95",
   "metadata": {
    "colab": {
     "base_uri": "https://localhost:8080/"
    },
    "executionInfo": {
     "elapsed": 24,
     "status": "ok",
     "timestamp": 1760716030210,
     "user": {
      "displayName": "Sangura JOEL Nyongesa",
      "userId": "07932560821536402568"
     },
     "user_tz": 0
    },
    "id": "e4f0fd95",
    "outputId": "d3e6adb3-9dc5-4a19-8024-6e5da5787084"
   },
   "outputs": [
    {
     "name": "stdout",
     "output_type": "stream",
     "text": [
      "[(1, 'a'), (2, 'b'), (3, 'c')]\n"
     ]
    }
   ],
   "source": [
    "list1 = [1, 2, 3]\n",
    "list2 = [\"a\", \"b\", \"c\"]\n",
    "combined_list = list(zip(list1, list2))\n",
    "print(combined_list)"
   ]
  },
  {
   "cell_type": "markdown",
   "id": "3719233b",
   "metadata": {
    "id": "3719233b"
   },
   "source": [
    "---\n",
    "\n",
    "### Exercise 26:\n",
    "Find the index of the value `50` in the list `[10, 20, 30, 40, 50]`.\n",
    "\n",
    "```python\n",
    "# Exercise 26\n",
    "```"
   ]
  },
  {
   "cell_type": "code",
   "execution_count": 29,
   "id": "85e7d04e",
   "metadata": {
    "colab": {
     "base_uri": "https://localhost:8080/"
    },
    "executionInfo": {
     "elapsed": 20,
     "status": "ok",
     "timestamp": 1760716074465,
     "user": {
      "displayName": "Sangura JOEL Nyongesa",
      "userId": "07932560821536402568"
     },
     "user_tz": 0
    },
    "id": "85e7d04e",
    "outputId": "93de6cdf-7856-4a98-9371-645dc70b0507"
   },
   "outputs": [
    {
     "name": "stdout",
     "output_type": "stream",
     "text": [
      "4\n"
     ]
    }
   ],
   "source": [
    "my_list = [10, 20, 30, 40, 50]\n",
    "index_of_50 = my_list.index(50)\n",
    "print(index_of_50)"
   ]
  },
  {
   "cell_type": "markdown",
   "id": "7f843cd2",
   "metadata": {
    "id": "7f843cd2"
   },
   "source": [
    "---\n",
    "\n",
    "### Exercise 27:\n",
    "Sort the list `names = [\"Alice\", \"Bob\", \"Charlie\", \"David\"]` in alphabetical order.\n",
    "\n",
    "```python\n",
    "# Exercise 27\n",
    "```"
   ]
  },
  {
   "cell_type": "code",
   "execution_count": 30,
   "id": "f125c19a",
   "metadata": {
    "colab": {
     "base_uri": "https://localhost:8080/"
    },
    "executionInfo": {
     "elapsed": 29,
     "status": "ok",
     "timestamp": 1760716095141,
     "user": {
      "displayName": "Sangura JOEL Nyongesa",
      "userId": "07932560821536402568"
     },
     "user_tz": 0
    },
    "id": "f125c19a",
    "outputId": "5d66697a-ada6-42bc-a83b-9873bcccab3f"
   },
   "outputs": [
    {
     "name": "stdout",
     "output_type": "stream",
     "text": [
      "['Alice', 'Bob', 'Charlie', 'David']\n"
     ]
    }
   ],
   "source": [
    "names = [\"Alice\", \"Bob\", \"Charlie\", \"David\"]\n",
    "names.sort()\n",
    "print(names)"
   ]
  },
  {
   "cell_type": "markdown",
   "id": "ccb11a1c",
   "metadata": {
    "id": "ccb11a1c"
   },
   "source": [
    "---\n",
    "\n",
    "### Exercise 28:\n",
    "Write a Python function that takes a list of integers as input and returns the largest number.\n",
    "\n",
    "```python\n",
    "# Exercise 28\n",
    "```"
   ]
  },
  {
   "cell_type": "code",
   "execution_count": 31,
   "id": "15a54472",
   "metadata": {
    "colab": {
     "base_uri": "https://localhost:8080/"
    },
    "executionInfo": {
     "elapsed": 26,
     "status": "ok",
     "timestamp": 1760716160696,
     "user": {
      "displayName": "Sangura JOEL Nyongesa",
      "userId": "07932560821536402568"
     },
     "user_tz": 0
    },
    "id": "15a54472",
    "outputId": "7b3d3218-97cb-4453-885a-30793b31c320"
   },
   "outputs": [
    {
     "name": "stdout",
     "output_type": "stream",
     "text": [
      "The largest number in the list is: 25\n"
     ]
    }
   ],
   "source": [
    "def find_largest_number(numbers):\n",
    "  \"\"\"Finds the largest number in a list of integers.\"\"\"\n",
    "  return max(numbers)\n",
    "\n",
    "my_numbers = [10, 5, 20, 15, 25]\n",
    "largest = find_largest_number(my_numbers)\n",
    "print(f\"The largest number in the list is: {largest}\")"
   ]
  },
  {
   "cell_type": "markdown",
   "id": "921642ea",
   "metadata": {
    "id": "921642ea"
   },
   "source": [
    "---\n",
    "\n",
    "### Exercise 29:\n",
    "Use the `count()` method to count how many times `\"apple\"` appears in the list `fruits = [\"apple\", \"banana\", \"apple\", \"orange\"]`.\n",
    "\n",
    "```python\n",
    "# Exercise 29\n",
    "```"
   ]
  },
  {
   "cell_type": "code",
   "execution_count": 32,
   "id": "fa2396a6",
   "metadata": {
    "colab": {
     "base_uri": "https://localhost:8080/"
    },
    "executionInfo": {
     "elapsed": 32,
     "status": "ok",
     "timestamp": 1760716185547,
     "user": {
      "displayName": "Sangura JOEL Nyongesa",
      "userId": "07932560821536402568"
     },
     "user_tz": 0
    },
    "id": "fa2396a6",
    "outputId": "a33a9f4a-c6a4-4784-adf8-113041d30b60"
   },
   "outputs": [
    {
     "name": "stdout",
     "output_type": "stream",
     "text": [
      "2\n"
     ]
    }
   ],
   "source": [
    "fruits = [\"apple\", \"banana\", \"apple\", \"orange\"]\n",
    "apple_count = fruits.count(\"apple\")\n",
    "print(apple_count)"
   ]
  },
  {
   "cell_type": "markdown",
   "id": "70c4247c",
   "metadata": {
    "id": "70c4247c"
   },
   "source": [
    "---\n",
    "\n",
    "### Exercise 30:\n",
    "Create a dictionary `person` where keys are `\"name\"`, `\"age\"`, and `\"city\"`, and values are `\"Alice\"`, `25`, and `\"New York\"` respectively. Then access the value of the `\"city\"` key.\n",
    "\n",
    "```python\n",
    "# Exercise 30\n",
    "```"
   ]
  },
  {
   "cell_type": "code",
   "execution_count": 33,
   "id": "9b8d1198",
   "metadata": {
    "colab": {
     "base_uri": "https://localhost:8080/"
    },
    "executionInfo": {
     "elapsed": 25,
     "status": "ok",
     "timestamp": 1760716209044,
     "user": {
      "displayName": "Sangura JOEL Nyongesa",
      "userId": "07932560821536402568"
     },
     "user_tz": 0
    },
    "id": "9b8d1198",
    "outputId": "766dc150-0568-4789-bba9-097824f6624f"
   },
   "outputs": [
    {
     "name": "stdout",
     "output_type": "stream",
     "text": [
      "New York\n"
     ]
    }
   ],
   "source": [
    "person = {\"name\": \"Alice\", \"age\": 25, \"city\": \"New York\"}\n",
    "city_value = person[\"city\"]\n",
    "print(city_value)"
   ]
  },
  {
   "cell_type": "markdown",
   "id": "0172d4c6",
   "metadata": {
    "id": "0172d4c6"
   },
   "source": [
    "---\n",
    "\n",
    "### Exercise 31:\n",
    "Write a Python function that takes a list as input and returns a new list with all duplicates removed.\n",
    "\n",
    "```python\n",
    "# Exercise 31\n",
    "```"
   ]
  },
  {
   "cell_type": "code",
   "execution_count": 34,
   "id": "f4d665a4",
   "metadata": {
    "colab": {
     "base_uri": "https://localhost:8080/"
    },
    "executionInfo": {
     "elapsed": 19,
     "status": "ok",
     "timestamp": 1760716235138,
     "user": {
      "displayName": "Sangura JOEL Nyongesa",
      "userId": "07932560821536402568"
     },
     "user_tz": 0
    },
    "id": "f4d665a4",
    "outputId": "4b1f6bd7-cd67-433d-a74f-debb0c080882"
   },
   "outputs": [
    {
     "name": "stdout",
     "output_type": "stream",
     "text": [
      "[1, 2, 3, 4, 5]\n"
     ]
    }
   ],
   "source": [
    "def remove_duplicates(input_list):\n",
    "  \"\"\"Removes duplicates from a list and returns a new list.\"\"\"\n",
    "  return list(set(input_list))\n",
    "\n",
    "my_list = [1, 2, 2, 3, 4, 4, 5]\n",
    "unique_list = remove_duplicates(my_list)\n",
    "print(unique_list)"
   ]
  },
  {
   "cell_type": "markdown",
   "id": "72cf0b50",
   "metadata": {
    "id": "72cf0b50"
   },
   "source": [
    "---\n",
    "\n",
    "### Exercise 32:\n",
    "Write a Python function that takes two lists and returns their intersection.\n",
    "\n",
    "```python\n",
    "# Exercise 32\n",
    "```"
   ]
  },
  {
   "cell_type": "code",
   "execution_count": 35,
   "id": "d109197b",
   "metadata": {
    "colab": {
     "base_uri": "https://localhost:8080/"
    },
    "executionInfo": {
     "elapsed": 25,
     "status": "ok",
     "timestamp": 1760716677554,
     "user": {
      "displayName": "Sangura JOEL Nyongesa",
      "userId": "07932560821536402568"
     },
     "user_tz": 0
    },
    "id": "d109197b",
    "outputId": "ef94e199-a681-474d-d1cc-f684c0156da6"
   },
   "outputs": [
    {
     "name": "stdout",
     "output_type": "stream",
     "text": [
      "[4, 5]\n"
     ]
    }
   ],
   "source": [
    "def list_intersection(list1, list2):\n",
    "  \"\"\"Returns the intersection of two lists.\"\"\"\n",
    "  return list(set(list1) & set(list2))\n",
    "\n",
    "\n",
    "list_a = [1, 2, 3, 4, 5]\n",
    "list_b = [4, 5, 6, 7, 8]\n",
    "intersection = list_intersection(list_a, list_b)\n",
    "print(intersection)"
   ]
  },
  {
   "cell_type": "markdown",
   "id": "78250167",
   "metadata": {
    "id": "78250167"
   },
   "source": [
    "---\n",
    "\n",
    "### Exercise 33:\n",
    "Create a generator that yields the squares of numbers from 1 to 10.\n",
    "\n",
    "```python\n",
    "# Exercise 33\n",
    "```"
   ]
  },
  {
   "cell_type": "code",
   "execution_count": 36,
   "id": "e4f6fca5",
   "metadata": {
    "colab": {
     "base_uri": "https://localhost:8080/"
    },
    "executionInfo": {
     "elapsed": 33,
     "status": "ok",
     "timestamp": 1760716700467,
     "user": {
      "displayName": "Sangura JOEL Nyongesa",
      "userId": "07932560821536402568"
     },
     "user_tz": 0
    },
    "id": "e4f6fca5",
    "outputId": "0801cbf8-0ce5-4c07-c953-4bda2e149031"
   },
   "outputs": [
    {
     "name": "stdout",
     "output_type": "stream",
     "text": [
      "1\n",
      "4\n",
      "9\n",
      "16\n",
      "25\n",
      "36\n",
      "49\n",
      "64\n",
      "81\n",
      "100\n"
     ]
    }
   ],
   "source": [
    "def squares_generator():\n",
    "  \"\"\"Generates the squares of numbers from 1 to 10.\"\"\"\n",
    "  for i in range(1, 11):\n",
    "    yield i**2\n",
    "\n",
    "\n",
    "for square in squares_generator():\n",
    "  print(square)"
   ]
  },
  {
   "cell_type": "markdown",
   "id": "057387cf",
   "metadata": {
    "id": "057387cf"
   },
   "source": [
    "---\n",
    "\n",
    "### Exercise 34:\n",
    "Write a Python function that takes a dictionary as input and returns the sum of all its values.\n",
    "\n",
    "```python\n",
    "# Exercise 34\n",
    "```"
   ]
  },
  {
   "cell_type": "code",
   "execution_count": 37,
   "id": "e8ff39a3",
   "metadata": {
    "colab": {
     "base_uri": "https://localhost:8080/"
    },
    "executionInfo": {
     "elapsed": 38,
     "status": "ok",
     "timestamp": 1760716743086,
     "user": {
      "displayName": "Sangura JOEL Nyongesa",
      "userId": "07932560821536402568"
     },
     "user_tz": 0
    },
    "id": "e8ff39a3",
    "outputId": "ff57944c-efa4-47a8-dfb2-bcf4a24c9cbb"
   },
   "outputs": [
    {
     "name": "stdout",
     "output_type": "stream",
     "text": [
      "The sum of the dictionary values is: 60\n"
     ]
    }
   ],
   "source": [
    "def sum_dict_values(input_dict):\n",
    "  \"\"\"Calculates the sum of all values in a dictionary.\"\"\"\n",
    "  return sum(input_dict.values())\n",
    "\n",
    "my_dict = {\"a\": 10, \"b\": 20, \"c\": 30}\n",
    "total_sum = sum_dict_values(my_dict)\n",
    "print(f\"The sum of the dictionary values is: {total_sum}\")"
   ]
  },
  {
   "cell_type": "markdown",
   "id": "0a4b468f",
   "metadata": {
    "id": "0a4b468f"
   },
   "source": [
    "---\n",
    "\n",
    "### Exercise 35:\n",
    "Use the `sorted()` function to sort the list `[3, 1, 4, 1, 5, 9]` in ascending order.\n",
    "\n",
    "```python\n",
    "# Exercise 35\n",
    "```"
   ]
  },
  {
   "cell_type": "code",
   "execution_count": 38,
   "id": "bba2b201",
   "metadata": {
    "colab": {
     "base_uri": "https://localhost:8080/"
    },
    "executionInfo": {
     "elapsed": 34,
     "status": "ok",
     "timestamp": 1760716764582,
     "user": {
      "displayName": "Sangura JOEL Nyongesa",
      "userId": "07932560821536402568"
     },
     "user_tz": 0
    },
    "id": "bba2b201",
    "outputId": "770942b3-9027-47e0-c696-968c607979cc"
   },
   "outputs": [
    {
     "name": "stdout",
     "output_type": "stream",
     "text": [
      "[1, 1, 3, 4, 5, 9]\n"
     ]
    }
   ],
   "source": [
    "my_list = [3, 1, 4, 1, 5, 9]\n",
    "sorted_list = sorted(my_list)\n",
    "print(sorted_list)"
   ]
  },
  {
   "cell_type": "markdown",
   "id": "32a7b0ef",
   "metadata": {
    "id": "32a7b0ef"
   },
   "source": [
    "---\n",
    "\n",
    "### Exercise 36:\n",
    "Write a Python function that takes a list of strings as input and returns the longest string.\n",
    "\n",
    "```python\n",
    "# Exercise 36\n",
    "```"
   ]
  },
  {
   "cell_type": "code",
   "execution_count": 39,
   "id": "66e8dd5d",
   "metadata": {
    "colab": {
     "base_uri": "https://localhost:8080/"
    },
    "executionInfo": {
     "elapsed": 29,
     "status": "ok",
     "timestamp": 1760716810498,
     "user": {
      "displayName": "Sangura JOEL Nyongesa",
      "userId": "07932560821536402568"
     },
     "user_tz": 0
    },
    "id": "66e8dd5d",
    "outputId": "1d37e253-70ad-4d72-af28-5ca252977cad"
   },
   "outputs": [
    {
     "name": "stdout",
     "output_type": "stream",
     "text": [
      "The longest string in the list is: banana\n"
     ]
    }
   ],
   "source": [
    "def find_longest_string(string_list):\n",
    "  \"\"\"Finds the longest string in a list of strings.\"\"\"\n",
    "  return max(string_list, key=len)\n",
    "\n",
    "\n",
    "my_strings = [\"apple\", \"banana\", \"cherry\", \"date\"]\n",
    "longest_string = find_longest_string(my_strings)\n",
    "print(f\"The longest string in the list is: {longest_string}\")"
   ]
  },
  {
   "cell_type": "markdown",
   "id": "a3adf33d",
   "metadata": {
    "id": "a3adf33d"
   },
   "source": [
    "---\n",
    "\n",
    "### Exercise 37:\n",
    "Check if all the elements in the list `[1, 2, 3, 4, 5]` are greater than 0 using the `all()` function.\n",
    "\n",
    "```python\n",
    "# Exercise 37\n",
    "```"
   ]
  },
  {
   "cell_type": "code",
   "execution_count": 40,
   "id": "18152643",
   "metadata": {
    "colab": {
     "base_uri": "https://localhost:8080/"
    },
    "executionInfo": {
     "elapsed": 31,
     "status": "ok",
     "timestamp": 1760716865249,
     "user": {
      "displayName": "Sangura JOEL Nyongesa",
      "userId": "07932560821536402568"
     },
     "user_tz": 0
    },
    "id": "18152643",
    "outputId": "0ea3afe5-6b15-43ec-87c2-3fef81b0e69b"
   },
   "outputs": [
    {
     "name": "stdout",
     "output_type": "stream",
     "text": [
      "True\n"
     ]
    }
   ],
   "source": [
    "my_list = [1, 2, 3, 4, 5]\n",
    "all_greater_than_zero = all(x > 0 for x in my_list)\n",
    "print(all_greater_than_zero)"
   ]
  },
  {
   "cell_type": "markdown",
   "id": "fb1eb29a",
   "metadata": {
    "id": "fb1eb29a"
   },
   "source": [
    "---\n",
    "\n",
    "### Exercise 38:\n",
    "Create a list of tuples where each tuple contains a number and its square for numbers from 1 to 5.\n",
    "\n",
    "```python\n",
    "# Exercise 38\n",
    "```"
   ]
  },
  {
   "cell_type": "code",
   "execution_count": 41,
   "id": "97daafcb",
   "metadata": {
    "colab": {
     "base_uri": "https://localhost:8080/"
    },
    "executionInfo": {
     "elapsed": 46,
     "status": "ok",
     "timestamp": 1760716889172,
     "user": {
      "displayName": "Sangura JOEL Nyongesa",
      "userId": "07932560821536402568"
     },
     "user_tz": 0
    },
    "id": "97daafcb",
    "outputId": "d0bcea10-8c53-488d-8e59-44c1d9c46c86"
   },
   "outputs": [
    {
     "name": "stdout",
     "output_type": "stream",
     "text": [
      "[(1, 1), (2, 4), (3, 9), (4, 16), (5, 25)]\n"
     ]
    }
   ],
   "source": [
    "list_of_tuples = [(i, i**2) for i in range(1, 6)]\n",
    "print(list_of_tuples)"
   ]
  },
  {
   "cell_type": "markdown",
   "id": "8d7308d3",
   "metadata": {
    "id": "8d7308d3"
   },
   "source": [
    "---\n",
    "\n",
    "### Exercise 39:\n",
    "Write a Python function that takes a list of tuples and returns a list of the second elements from each tuple.\n",
    "\n",
    "```python\n",
    "# Exercise 39\n",
    "```"
   ]
  },
  {
   "cell_type": "code",
   "execution_count": 42,
   "id": "2d931eec",
   "metadata": {
    "colab": {
     "base_uri": "https://localhost:8080/"
    },
    "executionInfo": {
     "elapsed": 33,
     "status": "ok",
     "timestamp": 1760716912398,
     "user": {
      "displayName": "Sangura JOEL Nyongesa",
      "userId": "07932560821536402568"
     },
     "user_tz": 0
    },
    "id": "2d931eec",
    "outputId": "73e7fb61-554a-458c-a8c6-3599ff23d112"
   },
   "outputs": [
    {
     "name": "stdout",
     "output_type": "stream",
     "text": [
      "['a', 'b', 'c']\n"
     ]
    }
   ],
   "source": [
    "def get_second_elements(list_of_tuples):\n",
    "  \"\"\"Returns a list of the second elements from each tuple in a list.\"\"\"\n",
    "  return [item[1] for item in list_of_tuples]\n",
    "\n",
    "\n",
    "my_list_of_tuples = [(1, 'a'), (2, 'b'), (3, 'c')]\n",
    "second_elements = get_second_elements(my_list_of_tuples)\n",
    "print(second_elements)"
   ]
  },
  {
   "cell_type": "markdown",
   "id": "48075fce",
   "metadata": {
    "id": "48075fce"
   },
   "source": [
    "---\n",
    "\n",
    "### Exercise 40:\n",
    "Write a Python function that flattens a list of lists into a single list.\n",
    "\n",
    "```python\n",
    "# Exercise 40\n",
    "```"
   ]
  },
  {
   "cell_type": "code",
   "execution_count": 43,
   "id": "dbcf4a9a",
   "metadata": {
    "colab": {
     "base_uri": "https://localhost:8080/"
    },
    "executionInfo": {
     "elapsed": 65,
     "status": "ok",
     "timestamp": 1760716939494,
     "user": {
      "displayName": "Sangura JOEL Nyongesa",
      "userId": "07932560821536402568"
     },
     "user_tz": 0
    },
    "id": "dbcf4a9a",
    "outputId": "7b6623b0-de66-45d7-9cd0-fafdd8ce2a72"
   },
   "outputs": [
    {
     "name": "stdout",
     "output_type": "stream",
     "text": [
      "[1, 2, 3, 4, 5, 6, 7, 8, 9]\n"
     ]
    }
   ],
   "source": [
    "def flatten_list_of_lists(list_of_lists):\n",
    "  \"\"\"Flattens a list of lists into a single list.\"\"\"\n",
    "  return [item for sublist in list_of_lists for item in sublist]\n",
    "\n",
    "\n",
    "nested_list = [[1, 2, 3], [4, 5], [6, 7, 8, 9]]\n",
    "flattened_list = flatten_list_of_lists(nested_list)\n",
    "print(flattened_list)"
   ]
  },
  {
   "cell_type": "markdown",
   "id": "fff3e2a2",
   "metadata": {
    "id": "fff3e2a2"
   },
   "source": [
    "---\n",
    "\n",
    "### Exercise 41:\n",
    "Use the `enumerate()` function to iterate through the list `[\"apple\", \"banana\", \"cherry\"]` and print the index and value.\n",
    "\n",
    "```python\n",
    "# Exercise 41\n",
    "```"
   ]
  },
  {
   "cell_type": "code",
   "execution_count": 44,
   "id": "0f702d0f",
   "metadata": {
    "colab": {
     "base_uri": "https://localhost:8080/"
    },
    "executionInfo": {
     "elapsed": 15,
     "status": "ok",
     "timestamp": 1760716961649,
     "user": {
      "displayName": "Sangura JOEL Nyongesa",
      "userId": "07932560821536402568"
     },
     "user_tz": 0
    },
    "id": "0f702d0f",
    "outputId": "b85d24b7-ef2b-4487-b2d0-341ef648f84a"
   },
   "outputs": [
    {
     "name": "stdout",
     "output_type": "stream",
     "text": [
      "Index: 0, Value: apple\n",
      "Index: 1, Value: banana\n",
      "Index: 2, Value: cherry\n"
     ]
    }
   ],
   "source": [
    "fruits = [\"apple\", \"banana\", \"cherry\"]\n",
    "for index, value in enumerate(fruits):\n",
    "  print(f\"Index: {index}, Value: {value}\")"
   ]
  },
  {
   "cell_type": "markdown",
   "id": "bdf6af85",
   "metadata": {
    "id": "bdf6af85"
   },
   "source": [
    "---\n",
    "\n",
    "### Exercise 42:\n",
    "Write a Python program that checks if a tuple is empty.\n",
    "\n",
    "```python\n",
    "# Exercise 42\n",
    "```"
   ]
  },
  {
   "cell_type": "code",
   "execution_count": 45,
   "id": "4f6be5b1",
   "metadata": {
    "colab": {
     "base_uri": "https://localhost:8080/"
    },
    "executionInfo": {
     "elapsed": 13,
     "status": "ok",
     "timestamp": 1760716984825,
     "user": {
      "displayName": "Sangura JOEL Nyongesa",
      "userId": "07932560821536402568"
     },
     "user_tz": 0
    },
    "id": "4f6be5b1",
    "outputId": "83b7ae24-fc34-4e51-d06d-e151ff2e6347"
   },
   "outputs": [
    {
     "name": "stdout",
     "output_type": "stream",
     "text": [
      "The tuple is empty.\n",
      "The tuple is not empty.\n"
     ]
    }
   ],
   "source": [
    "my_tuple = ()\n",
    "if not my_tuple:\n",
    "  print(\"The tuple is empty.\")\n",
    "else:\n",
    "  print(\"The tuple is not empty.\")\n",
    "\n",
    "my_tuple_2 = (1, 2, 3)\n",
    "if not my_tuple_2:\n",
    "  print(\"The tuple is empty.\")\n",
    "else:\n",
    "  print(\"The tuple is not empty.\")"
   ]
  },
  {
   "cell_type": "markdown",
   "id": "75b05262",
   "metadata": {
    "id": "75b05262"
   },
   "source": [
    "---\n",
    "\n",
    "### Exercise 43:\n",
    "Create a list of even numbers between 1 and 20 using the `range()` function.\n",
    "\n",
    "```python\n",
    "# Exercise 43\n",
    "```"
   ]
  },
  {
   "cell_type": "code",
   "execution_count": 46,
   "id": "7b4b2fdd",
   "metadata": {
    "colab": {
     "base_uri": "https://localhost:8080/"
    },
    "executionInfo": {
     "elapsed": 32,
     "status": "ok",
     "timestamp": 1760717006402,
     "user": {
      "displayName": "Sangura JOEL Nyongesa",
      "userId": "07932560821536402568"
     },
     "user_tz": 0
    },
    "id": "7b4b2fdd",
    "outputId": "afdb837b-ac65-43d6-b7e3-44d9d6ffd39e"
   },
   "outputs": [
    {
     "name": "stdout",
     "output_type": "stream",
     "text": [
      "[2, 4, 6, 8, 10, 12, 14, 16, 18, 20]\n"
     ]
    }
   ],
   "source": [
    "even_numbers = list(range(2, 21, 2))\n",
    "print(even_numbers)"
   ]
  },
  {
   "cell_type": "markdown",
   "id": "c1f08fcc",
   "metadata": {
    "id": "c1f08fcc"
   },
   "source": [
    "---\n",
    "\n",
    "### Exercise 44:\n",
    "Write a Python function that takes a list of numbers as input and returns the list in reverse order.\n",
    "\n",
    "```python\n",
    "# Exercise 44\n",
    "```"
   ]
  },
  {
   "cell_type": "code",
   "execution_count": 47,
   "id": "1b39184b",
   "metadata": {
    "colab": {
     "base_uri": "https://localhost:8080/"
    },
    "executionInfo": {
     "elapsed": 30,
     "status": "ok",
     "timestamp": 1760717028246,
     "user": {
      "displayName": "Sangura JOEL Nyongesa",
      "userId": "07932560821536402568"
     },
     "user_tz": 0
    },
    "id": "1b39184b",
    "outputId": "1fd56409-59b8-422f-b214-b8be3b959e8b"
   },
   "outputs": [
    {
     "name": "stdout",
     "output_type": "stream",
     "text": [
      "[5, 4, 3, 2, 1]\n"
     ]
    }
   ],
   "source": [
    "def reverse_list(input_list):\n",
    "  \"\"\"Reverses a list and returns the reversed list.\"\"\"\n",
    "  return input_list[::-1]\n",
    "\n",
    "\n",
    "my_list = [1, 2, 3, 4, 5]\n",
    "reversed_list = reverse_list(my_list)\n",
    "print(reversed_list)"
   ]
  },
  {
   "cell_type": "markdown",
   "id": "c58c71fd",
   "metadata": {
    "id": "c58c71fd"
   },
   "source": [
    "---\n",
    "\n",
    "### Exercise 45:\n",
    "Create a dictionary comprehension that maps numbers from 1 to 5 to their cubes.\n",
    "\n",
    "```python\n",
    "# Exercise 45\n",
    "```"
   ]
  },
  {
   "cell_type": "code",
   "execution_count": 48,
   "id": "cef2e879",
   "metadata": {
    "colab": {
     "base_uri": "https://localhost:8080/"
    },
    "executionInfo": {
     "elapsed": 51,
     "status": "ok",
     "timestamp": 1760717052749,
     "user": {
      "displayName": "Sangura JOEL Nyongesa",
      "userId": "07932560821536402568"
     },
     "user_tz": 0
    },
    "id": "cef2e879",
    "outputId": "573c2330-8ab4-4a5e-8902-b90c5547341f"
   },
   "outputs": [
    {
     "name": "stdout",
     "output_type": "stream",
     "text": [
      "{1: 1, 2: 8, 3: 27, 4: 64, 5: 125}\n"
     ]
    }
   ],
   "source": [
    "cubes_dict = {num: num**3 for num in range(1, 6)}\n",
    "print(cubes_dict)"
   ]
  },
  {
   "cell_type": "markdown",
   "id": "77a3d05b",
   "metadata": {
    "id": "77a3d05b"
   },
   "source": [
    "---\n",
    "\n",
    "### Exercise 46:\n",
    "Write a Python program that creates a new list containing only the unique elements of the list `[1, 2, 2, 3, 4, 4, 5]`.\n",
    "\n",
    "```python\n",
    "# Exercise 46\n",
    "```"
   ]
  },
  {
   "cell_type": "code",
   "execution_count": 49,
   "id": "dcfc4e1c",
   "metadata": {
    "colab": {
     "base_uri": "https://localhost:8080/"
    },
    "executionInfo": {
     "elapsed": 74,
     "status": "ok",
     "timestamp": 1760717074725,
     "user": {
      "displayName": "Sangura JOEL Nyongesa",
      "userId": "07932560821536402568"
     },
     "user_tz": 0
    },
    "id": "dcfc4e1c",
    "outputId": "2c3b240b-4dad-493c-94b3-8f55cdf89c38"
   },
   "outputs": [
    {
     "name": "stdout",
     "output_type": "stream",
     "text": [
      "[1, 2, 3, 4, 5]\n"
     ]
    }
   ],
   "source": [
    "list_b = [1, 2, 2, 3, 4, 4, 5]\n",
    "new_list_b = list(set(list_b))\n",
    "print(new_list_b)"
   ]
  },
  {
   "cell_type": "markdown",
   "id": "d7997948",
   "metadata": {
    "id": "d7997948"
   },
   "source": [
    "---\n",
    "\n",
    "### Exercise 47:\n",
    "Write a Python function that takes a list of dictionaries and returns a list of the values for a given key.\n",
    "\n",
    "```python\n",
    "# Exercise 47\n",
    "```"
   ]
  },
  {
   "cell_type": "code",
   "execution_count": 50,
   "id": "57c0af86",
   "metadata": {
    "colab": {
     "base_uri": "https://localhost:8080/"
    },
    "executionInfo": {
     "elapsed": 61,
     "status": "ok",
     "timestamp": 1760717097508,
     "user": {
      "displayName": "Sangura JOEL Nyongesa",
      "userId": "07932560821536402568"
     },
     "user_tz": 0
    },
    "id": "57c0af86",
    "outputId": "bb3bf486-3634-44fa-d542-0701b5f91be0"
   },
   "outputs": [
    {
     "name": "stdout",
     "output_type": "stream",
     "text": [
      "[20, 22, 21]\n",
      "['A', 'B', 'C']\n"
     ]
    }
   ],
   "source": [
    "def get_values_for_key(list_of_dicts, key):\n",
    "  \"\"\"Takes a list of dictionaries and a key, and returns a list of values for that key.\"\"\"\n",
    "  return [d[key] for d in list_of_dicts if key in d]\n",
    "\n",
    "\n",
    "list_of_students = [\n",
    "    {\"name\": \"Alice\", \"age\": 20, \"grade\": \"A\"},\n",
    "    {\"name\": \"Bob\", \"age\": 22, \"grade\": \"B\"},\n",
    "    {\"name\": \"Charlie\", \"age\": 21, \"grade\": \"C\"},\n",
    "]\n",
    "ages = get_values_for_key(list_of_students, \"age\")\n",
    "print(ages)\n",
    "\n",
    "grades = get_values_for_key(list_of_students, \"grade\")\n",
    "print(grades)"
   ]
  },
  {
   "cell_type": "markdown",
   "id": "4109f60d",
   "metadata": {
    "id": "4109f60d"
   },
   "source": [
    "---\n",
    "\n",
    "### Exercise 48:\n",
    "Write a Python function that uses a generator to yield the Fibonacci sequence up to `n` terms.\n",
    "\n",
    "```python\n",
    "# Exercise 48\n",
    "```"
   ]
  },
  {
   "cell_type": "code",
   "execution_count": 51,
   "id": "35a59a25",
   "metadata": {
    "colab": {
     "base_uri": "https://localhost:8080/"
    },
    "executionInfo": {
     "elapsed": 33,
     "status": "ok",
     "timestamp": 1760717119217,
     "user": {
      "displayName": "Sangura JOEL Nyongesa",
      "userId": "07932560821536402568"
     },
     "user_tz": 0
    },
    "id": "35a59a25",
    "outputId": "9f2cb044-cce5-4ff9-ed5f-443940be49b0"
   },
   "outputs": [
    {
     "name": "stdout",
     "output_type": "stream",
     "text": [
      "[0, 1, 1, 2, 3, 5, 8, 13, 21, 34]\n"
     ]
    }
   ],
   "source": [
    "def fibonacci_generator(n):\n",
    "  \"\"\"Generates the Fibonacci sequence up to n terms.\"\"\"\n",
    "  a, b = 0, 1\n",
    "  for _ in range(n):\n",
    "    yield a\n",
    "    a, b = b, a + b\n",
    "\n",
    "\n",
    "n_terms = 10\n",
    "fib_sequence = list(fibonacci_generator(n_terms))\n",
    "print(fib_sequence)"
   ]
  },
  {
   "cell_type": "markdown",
   "id": "f314e096",
   "metadata": {
    "id": "f314e096"
   },
   "source": [
    "---\n",
    "\n",
    "### Exercise 49:\n",
    "Write a Python function that takes a string and returns a list of all unique characters in the string.\n",
    "\n",
    "```python\n",
    "# Exercise 49\n",
    "```"
   ]
  },
  {
   "cell_type": "code",
   "execution_count": 52,
   "id": "fb01528c",
   "metadata": {
    "colab": {
     "base_uri": "https://localhost:8080/"
    },
    "executionInfo": {
     "elapsed": 36,
     "status": "ok",
     "timestamp": 1760717146085,
     "user": {
      "displayName": "Sangura JOEL Nyongesa",
      "userId": "07932560821536402568"
     },
     "user_tz": 0
    },
    "id": "fb01528c",
    "outputId": "ec5b52a1-8ae9-4bf4-c332-2489e2cfbd90"
   },
   "outputs": [
    {
     "name": "stdout",
     "output_type": "stream",
     "text": [
      "['n', 'p', 'm', 'g', 'o', 'i', 'r', 'a']\n"
     ]
    }
   ],
   "source": [
    "def unique_characters(input_string):\n",
    "  \"\"\"Returns a list of all unique characters in a string.\"\"\"\n",
    "  return list(set(input_string))\n",
    "\n",
    "\n",
    "my_string = \"programming\"\n",
    "unique_chars = unique_characters(my_string)\n",
    "print(unique_chars)"
   ]
  },
  {
   "cell_type": "markdown",
   "id": "0a83aa76",
   "metadata": {
    "id": "0a83aa76"
   },
   "source": [
    "---\n",
    "\n",
    "### Exercise 50:\n",
    "Write a Python function that merges two sorted lists into a single sorted list.\n",
    "\n",
    "```python\n",
    "# Exercise 50\n",
    "```"
   ]
  },
  {
   "cell_type": "code",
   "execution_count": 53,
   "id": "107d940a",
   "metadata": {
    "colab": {
     "base_uri": "https://localhost:8080/"
    },
    "executionInfo": {
     "elapsed": 169,
     "status": "ok",
     "timestamp": 1760717169563,
     "user": {
      "displayName": "Sangura JOEL Nyongesa",
      "userId": "07932560821536402568"
     },
     "user_tz": 0
    },
    "id": "107d940a",
    "outputId": "94ecf2c5-67d1-4340-c325-1b3a6a0b2e1f"
   },
   "outputs": [
    {
     "name": "stdout",
     "output_type": "stream",
     "text": [
      "[1, 2, 3, 4, 5, 6, 7, 8]\n"
     ]
    }
   ],
   "source": [
    "def merge_sorted_lists(list1, list2):\n",
    "  \"\"\"Merges two sorted lists into a single sorted list.\"\"\"\n",
    "  merged_list = list1 + list2\n",
    "  merged_list.sort()\n",
    "  return merged_list\n",
    "\n",
    "\n",
    "list_a = [1, 3, 5, 7]\n",
    "list_b = [2, 4, 6, 8]\n",
    "merged_list = merge_sorted_lists(list_a, list_b)\n",
    "print(merged_list)"
   ]
  },
  {
   "cell_type": "markdown",
   "id": "5c4dcfbf",
   "metadata": {
    "id": "5c4dcfbf"
   },
   "source": [
    "---\n",
    "\n",
    "### Exercise 51:\n",
    "Use the\n",
    "\n",
    " `filter()` function to filter out odd numbers from the list `[1, 2, 3, 4, 5, 6]`.\n",
    "\n",
    "```python\n",
    "# Exercise 51\n",
    "```"
   ]
  },
  {
   "cell_type": "code",
   "execution_count": 54,
   "id": "78e436c1",
   "metadata": {
    "colab": {
     "base_uri": "https://localhost:8080/"
    },
    "executionInfo": {
     "elapsed": 90,
     "status": "ok",
     "timestamp": 1760717195007,
     "user": {
      "displayName": "Sangura JOEL Nyongesa",
      "userId": "07932560821536402568"
     },
     "user_tz": 0
    },
    "id": "78e436c1",
    "outputId": "761d60df-2793-48bc-dac8-0478ded45aef"
   },
   "outputs": [
    {
     "name": "stdout",
     "output_type": "stream",
     "text": [
      "[2, 4, 6]\n"
     ]
    }
   ],
   "source": [
    "numbers = [1, 2, 3, 4, 5, 6]\n",
    "even_numbers = list(filter(lambda x: x % 2 == 0, numbers))\n",
    "print(even_numbers)"
   ]
  },
  {
   "cell_type": "markdown",
   "id": "0857331b",
   "metadata": {
    "id": "0857331b"
   },
   "source": [
    "---\n",
    "\n",
    "### Exercise 52:\n",
    "Write a Python program that converts a list of tuples `[(1, 2), (3, 4), (5, 6)]` into a dictionary.\n",
    "\n",
    "```python\n",
    "# Exercise 52\n",
    "```"
   ]
  },
  {
   "cell_type": "code",
   "execution_count": 55,
   "id": "79490c52",
   "metadata": {
    "colab": {
     "base_uri": "https://localhost:8080/"
    },
    "executionInfo": {
     "elapsed": 83,
     "status": "ok",
     "timestamp": 1760717244446,
     "user": {
      "displayName": "Sangura JOEL Nyongesa",
      "userId": "07932560821536402568"
     },
     "user_tz": 0
    },
    "id": "79490c52",
    "outputId": "ebf282bd-5ecb-491a-809d-0b308c30b69f"
   },
   "outputs": [
    {
     "name": "stdout",
     "output_type": "stream",
     "text": [
      "{1: 2, 3: 4, 5: 6}\n"
     ]
    }
   ],
   "source": [
    "list_of_tuples = [(1, 2), (3, 4), (5, 6)]\n",
    "my_dict = dict(list_of_tuples)\n",
    "print(my_dict)"
   ]
  },
  {
   "cell_type": "markdown",
   "id": "a328bb8b",
   "metadata": {
    "id": "a328bb8b"
   },
   "source": [
    "---\n",
    "\n",
    "### Exercise 53:\n",
    "Write a Python function that takes two sets and returns their symmetric difference.\n",
    "\n",
    "```python\n",
    "# Exercise 53\n",
    "```"
   ]
  },
  {
   "cell_type": "code",
   "execution_count": 56,
   "id": "1f1ef4a1",
   "metadata": {
    "colab": {
     "base_uri": "https://localhost:8080/"
    },
    "executionInfo": {
     "elapsed": 46,
     "status": "ok",
     "timestamp": 1760717301367,
     "user": {
      "displayName": "Sangura JOEL Nyongesa",
      "userId": "07932560821536402568"
     },
     "user_tz": 0
    },
    "id": "1f1ef4a1",
    "outputId": "1e41d44d-0328-41db-b97d-051f2654caae"
   },
   "outputs": [
    {
     "name": "stdout",
     "output_type": "stream",
     "text": [
      "{1, 2, 3, 6, 7, 8}\n"
     ]
    }
   ],
   "source": [
    "def symmetric_difference_sets(set1, set2):\n",
    "  \"\"\"Returns the symmetric difference of two sets.\"\"\"\n",
    "  return set1 ^ set2\n",
    "\n",
    "\n",
    "set_a = {1, 2, 3, 4, 5}\n",
    "set_b = {4, 5, 6, 7, 8}\n",
    "symmetric_difference = symmetric_difference_sets(set_a, set_b)\n",
    "print(symmetric_difference)"
   ]
  },
  {
   "cell_type": "markdown",
   "id": "04184312",
   "metadata": {
    "id": "04184312"
   },
   "source": [
    "---\n",
    "\n",
    "### Exercise 54:\n",
    "Write a Python program that finds the common elements in three lists `list1`, `list2`, and `list3`.\n",
    "\n",
    "```python\n",
    "# Exercise 54\n",
    "```"
   ]
  },
  {
   "cell_type": "code",
   "execution_count": 57,
   "id": "c38665cc",
   "metadata": {
    "colab": {
     "base_uri": "https://localhost:8080/"
    },
    "executionInfo": {
     "elapsed": 91,
     "status": "ok",
     "timestamp": 1760717329976,
     "user": {
      "displayName": "Sangura JOEL Nyongesa",
      "userId": "07932560821536402568"
     },
     "user_tz": 0
    },
    "id": "c38665cc",
    "outputId": "55838d52-0e5d-4fc9-e8ef-3901d809228a"
   },
   "outputs": [
    {
     "name": "stdout",
     "output_type": "stream",
     "text": [
      "[5]\n"
     ]
    }
   ],
   "source": [
    "list1 = [1, 2, 3, 4, 5]\n",
    "list2 = [4, 5, 6, 7, 8]\n",
    "list3 = [5, 8, 9, 10]\n",
    "\n",
    "common_elements = list(set(list1) & set(list2) & set(list3))\n",
    "print(common_elements)"
   ]
  },
  {
   "cell_type": "markdown",
   "id": "10debde1",
   "metadata": {
    "id": "10debde1"
   },
   "source": [
    "---\n",
    "\n",
    "### Exercise 55:\n",
    "Write a Python function that returns the factorial of a number using recursion.\n",
    "\n",
    "```python\n",
    "# Exercise 55\n",
    "```"
   ]
  },
  {
   "cell_type": "code",
   "execution_count": 58,
   "id": "c682faf3",
   "metadata": {
    "colab": {
     "base_uri": "https://localhost:8080/"
    },
    "executionInfo": {
     "elapsed": 65,
     "status": "ok",
     "timestamp": 1760717354357,
     "user": {
      "displayName": "Sangura JOEL Nyongesa",
      "userId": "07932560821536402568"
     },
     "user_tz": 0
    },
    "id": "c682faf3",
    "outputId": "5acc06f3-87ee-499e-f9a3-3e6f47c235b1"
   },
   "outputs": [
    {
     "name": "stdout",
     "output_type": "stream",
     "text": [
      "The factorial of 5 is: 120\n"
     ]
    }
   ],
   "source": [
    "def recursive_factorial(n):\n",
    "  \"\"\"Calculates the factorial of a number using recursion.\"\"\"\n",
    "  if n == 0 or n == 1:\n",
    "    return 1\n",
    "  else:\n",
    "    return n * recursive_factorial(n - 1)\n",
    "\n",
    "\n",
    "number = 5\n",
    "factorial_result = recursive_factorial(number)\n",
    "print(f\"The factorial of {number} is: {factorial_result}\")"
   ]
  },
  {
   "cell_type": "markdown",
   "id": "8c80c376",
   "metadata": {
    "id": "8c80c376"
   },
   "source": [
    "---\n",
    "\n",
    "### Exercise 56:\n",
    "Write a Python program that removes all empty strings from the list `[\"apple\", \"\", \"banana\", \"\", \"cherry\"]`.\n",
    "\n",
    "```python\n",
    "# Exercise 56\n",
    "```"
   ]
  },
  {
   "cell_type": "code",
   "execution_count": 59,
   "id": "2853bfb7",
   "metadata": {
    "colab": {
     "base_uri": "https://localhost:8080/"
    },
    "executionInfo": {
     "elapsed": 34,
     "status": "ok",
     "timestamp": 1760717377836,
     "user": {
      "displayName": "Sangura JOEL Nyongesa",
      "userId": "07932560821536402568"
     },
     "user_tz": 0
    },
    "id": "2853bfb7",
    "outputId": "cf26436b-fd06-413e-8d7b-88476927f002"
   },
   "outputs": [
    {
     "name": "stdout",
     "output_type": "stream",
     "text": [
      "['apple', 'banana', 'cherry']\n"
     ]
    }
   ],
   "source": [
    "list_with_empty_strings = [\"apple\", \"\", \"banana\", \"\", \"cherry\"]\n",
    "list_without_empty_strings = [string for string in list_with_empty_strings if string]\n",
    "print(list_without_empty_strings)"
   ]
  },
  {
   "cell_type": "markdown",
   "id": "e1f480f9",
   "metadata": {
    "id": "e1f480f9"
   },
   "source": [
    "---\n",
    "\n",
    "### Exercise 57:\n",
    "Write a Python function that takes a dictionary and returns a new dictionary with the keys and values swapped.\n",
    "\n",
    "```python\n",
    "# Exercise 57\n",
    "```"
   ]
  },
  {
   "cell_type": "code",
   "execution_count": 60,
   "id": "2994dd5b",
   "metadata": {
    "colab": {
     "base_uri": "https://localhost:8080/"
    },
    "executionInfo": {
     "elapsed": 36,
     "status": "ok",
     "timestamp": 1760717404434,
     "user": {
      "displayName": "Sangura JOEL Nyongesa",
      "userId": "07932560821536402568"
     },
     "user_tz": 0
    },
    "id": "2994dd5b",
    "outputId": "db27ce49-77c3-4072-d95b-a858e4380b8c"
   },
   "outputs": [
    {
     "name": "stdout",
     "output_type": "stream",
     "text": [
      "{1: 'a', 2: 'b', 3: 'c'}\n"
     ]
    }
   ],
   "source": [
    "def swap_dict_keys_values(input_dict):\n",
    "  \"\"\"Swaps the keys and values of a dictionary.\"\"\"\n",
    "  return {value: key for key, value in input_dict.items()}\n",
    "\n",
    "\n",
    "my_dict = {\"a\": 1, \"b\": 2, \"c\": 3}\n",
    "swapped_dict = swap_dict_keys_values(my_dict)\n",
    "print(swapped_dict)"
   ]
  },
  {
   "cell_type": "markdown",
   "id": "96b429cb",
   "metadata": {
    "id": "96b429cb"
   },
   "source": [
    "---\n",
    "\n",
    "### Exercise 58:\n",
    "Write a Python function that takes a list of integers and returns a new list with only the even numbers.\n",
    "\n",
    "```python\n",
    "# Exercise 58\n",
    "```"
   ]
  },
  {
   "cell_type": "code",
   "execution_count": 61,
   "id": "99e49072",
   "metadata": {
    "colab": {
     "base_uri": "https://localhost:8080/"
    },
    "executionInfo": {
     "elapsed": 39,
     "status": "ok",
     "timestamp": 1760717425057,
     "user": {
      "displayName": "Sangura JOEL Nyongesa",
      "userId": "07932560821536402568"
     },
     "user_tz": 0
    },
    "id": "99e49072",
    "outputId": "9842a162-8640-4b5b-c083-aaad9de85e36"
   },
   "outputs": [
    {
     "name": "stdout",
     "output_type": "stream",
     "text": [
      "[2, 4, 6, 8, 10]\n"
     ]
    }
   ],
   "source": [
    "def get_even_numbers(input_list):\n",
    "  \"\"\"Returns a new list with only the even numbers from the input list.\"\"\"\n",
    "  return [num for num in input_list if num % 2 == 0]\n",
    "\n",
    "\n",
    "my_list = [1, 2, 3, 4, 5, 6, 7, 8, 9, 10]\n",
    "even_numbers = get_even_numbers(my_list)\n",
    "print(even_numbers)"
   ]
  },
  {
   "cell_type": "markdown",
   "id": "a4e3b78d",
   "metadata": {
    "id": "a4e3b78d"
   },
   "source": [
    "---\n",
    "\n",
    "### Exercise 59:\n",
    "Write a Python function that takes a list of tuples and returns a list of the first elements of each tuple.\n",
    "\n",
    "```python\n",
    "# Exercise 59\n",
    "```"
   ]
  },
  {
   "cell_type": "code",
   "execution_count": 62,
   "id": "bbaffcd5",
   "metadata": {
    "colab": {
     "base_uri": "https://localhost:8080/"
    },
    "executionInfo": {
     "elapsed": 36,
     "status": "ok",
     "timestamp": 1760717446131,
     "user": {
      "displayName": "Sangura JOEL Nyongesa",
      "userId": "07932560821536402568"
     },
     "user_tz": 0
    },
    "id": "bbaffcd5",
    "outputId": "dbd562b8-72bc-4a76-eda8-c70dc29dce5e"
   },
   "outputs": [
    {
     "name": "stdout",
     "output_type": "stream",
     "text": [
      "[1, 2, 3]\n"
     ]
    }
   ],
   "source": [
    "def get_first_elements(list_of_tuples):\n",
    "  \"\"\"Returns a list of the first elements from each tuple in a list.\"\"\"\n",
    "  return [item[0] for item in list_of_tuples]\n",
    "\n",
    "my_list_of_tuples = [(1, 'a'), (2, 'b'), (3, 'c')]\n",
    "first_elements = get_first_elements(my_list_of_tuples)\n",
    "print(first_elements)"
   ]
  },
  {
   "cell_type": "markdown",
   "id": "33c883d4",
   "metadata": {
    "id": "33c883d4"
   },
   "source": [
    "---\n",
    "\n",
    "### Exercise 60:\n",
    "Write a Python program that removes duplicates from a list without changing the order of elements.\n",
    "\n",
    "```python\n",
    "# Exercise 60\n",
    "```"
   ]
  },
  {
   "cell_type": "code",
   "execution_count": 63,
   "id": "9f43c67e",
   "metadata": {
    "colab": {
     "base_uri": "https://localhost:8080/"
    },
    "executionInfo": {
     "elapsed": 20,
     "status": "ok",
     "timestamp": 1760717470344,
     "user": {
      "displayName": "Sangura JOEL Nyongesa",
      "userId": "07932560821536402568"
     },
     "user_tz": 0
    },
    "id": "9f43c67e",
    "outputId": "595cba90-6673-48ba-e93b-4f44503cc781"
   },
   "outputs": [
    {
     "name": "stdout",
     "output_type": "stream",
     "text": [
      "[1, 2, 3, 4, 5, 6]\n"
     ]
    }
   ],
   "source": [
    "def remove_duplicates_preserve_order(input_list):\n",
    "  \"\"\"Removes duplicates from a list while preserving the order.\"\"\"\n",
    "  seen = set()\n",
    "  result = []\n",
    "  for item in input_list:\n",
    "    if item not in seen:\n",
    "      seen.add(item)\n",
    "      result.append(item)\n",
    "  return result\n",
    "\n",
    "\n",
    "my_list = [1, 2, 2, 3, 4, 4, 5, 1, 6]\n",
    "unique_list = remove_duplicates_preserve_order(my_list)\n",
    "print(unique_list)"
   ]
  },
  {
   "cell_type": "markdown",
   "id": "a1448419",
   "metadata": {
    "id": "a1448419"
   },
   "source": [
    "---\n",
    "\n",
    "### Exercise 61:\n",
    "Use the `map()` function to convert a list of strings to a list of their lengths.\n",
    "\n",
    "```python\n",
    "# Exercise 61\n",
    "```"
   ]
  },
  {
   "cell_type": "code",
   "execution_count": 64,
   "id": "229ebde5",
   "metadata": {
    "colab": {
     "base_uri": "https://localhost:8080/"
    },
    "executionInfo": {
     "elapsed": 97,
     "status": "ok",
     "timestamp": 1760717495137,
     "user": {
      "displayName": "Sangura JOEL Nyongesa",
      "userId": "07932560821536402568"
     },
     "user_tz": 0
    },
    "id": "229ebde5",
    "outputId": "2c05fa7e-9139-4e05-af75-b4d556e59721"
   },
   "outputs": [
    {
     "name": "stdout",
     "output_type": "stream",
     "text": [
      "[5, 6, 6]\n"
     ]
    }
   ],
   "source": [
    "list_of_strings = [\"apple\", \"banana\", \"cherry\"]\n",
    "lengths = list(map(len, list_of_strings))\n",
    "print(lengths)"
   ]
  },
  {
   "cell_type": "markdown",
   "id": "40c917ed",
   "metadata": {
    "id": "40c917ed"
   },
   "source": [
    "---\n",
    "\n",
    "### Exercise 62:\n",
    "Write a Python program that calculates the average of a list of numbers.\n",
    "\n",
    "```python\n",
    "# Exercise 62\n",
    "```"
   ]
  },
  {
   "cell_type": "code",
   "execution_count": 65,
   "id": "bdbe9cbd",
   "metadata": {
    "colab": {
     "base_uri": "https://localhost:8080/"
    },
    "executionInfo": {
     "elapsed": 81,
     "status": "ok",
     "timestamp": 1760717520440,
     "user": {
      "displayName": "Sangura JOEL Nyongesa",
      "userId": "07932560821536402568"
     },
     "user_tz": 0
    },
    "id": "bdbe9cbd",
    "outputId": "bdf83aac-3a45-4520-dc85-390debae8e31"
   },
   "outputs": [
    {
     "name": "stdout",
     "output_type": "stream",
     "text": [
      "The average of the list is: 30.0\n"
     ]
    }
   ],
   "source": [
    "numbers = [10, 20, 30, 40, 50]\n",
    "average = sum(numbers) / len(numbers)\n",
    "print(f\"The average of the list is: {average}\")"
   ]
  },
  {
   "cell_type": "markdown",
   "id": "8641fb75",
   "metadata": {
    "id": "8641fb75"
   },
   "source": [
    "---\n",
    "\n",
    "### Exercise 63:\n",
    "Write a Python function that generates a list of the first `n` Fibonacci numbers.\n",
    "\n",
    "```python\n",
    "# Exercise 63\n",
    "```"
   ]
  },
  {
   "cell_type": "code",
   "execution_count": 66,
   "id": "41d7ba4c",
   "metadata": {
    "colab": {
     "base_uri": "https://localhost:8080/"
    },
    "executionInfo": {
     "elapsed": 58,
     "status": "ok",
     "timestamp": 1760717540102,
     "user": {
      "displayName": "Sangura JOEL Nyongesa",
      "userId": "07932560821536402568"
     },
     "user_tz": 0
    },
    "id": "41d7ba4c",
    "outputId": "2ee1d63f-2a72-4e28-d120-b8ac1ffc065d"
   },
   "outputs": [
    {
     "name": "stdout",
     "output_type": "stream",
     "text": [
      "[0, 1, 1, 2, 3, 5, 8, 13, 21, 34]\n"
     ]
    }
   ],
   "source": [
    "def generate_fibonacci_list(n):\n",
    "  \"\"\"Generates a list of the first n Fibonacci numbers.\"\"\"\n",
    "  fib_list = []\n",
    "  a, b = 0, 1\n",
    "  for _ in range(n):\n",
    "    fib_list.append(a)\n",
    "    a, b = b, a + b\n",
    "  return fib_list\n",
    "\n",
    "\n",
    "n_terms = 10\n",
    "fibonacci_sequence = generate_fibonacci_list(n_terms)\n",
    "print(fibonacci_sequence)"
   ]
  },
  {
   "cell_type": "markdown",
   "id": "d50d7c52",
   "metadata": {
    "id": "d50d7c52"
   },
   "source": [
    "---\n",
    "\n",
    "### Exercise 64:\n",
    "Write a Python program that counts how many times each element appears in the list `[\"apple\", \"banana\", \"apple\", \"cherry\"]`.\n",
    "\n",
    "```python\n",
    "# Exercise 64\n",
    "```"
   ]
  },
  {
   "cell_type": "code",
   "execution_count": 67,
   "id": "95147a7b",
   "metadata": {
    "colab": {
     "base_uri": "https://localhost:8080/"
    },
    "executionInfo": {
     "elapsed": 60,
     "status": "ok",
     "timestamp": 1760717561301,
     "user": {
      "displayName": "Sangura JOEL Nyongesa",
      "userId": "07932560821536402568"
     },
     "user_tz": 0
    },
    "id": "95147a7b",
    "outputId": "dc86c7b7-fa5d-4cbe-dc92-f96d0fb70bd8"
   },
   "outputs": [
    {
     "name": "stdout",
     "output_type": "stream",
     "text": [
      "Counter({'apple': 2, 'banana': 1, 'cherry': 1})\n"
     ]
    }
   ],
   "source": [
    "from collections import Counter\n",
    "\n",
    "my_list = [\"apple\", \"banana\", \"apple\", \"cherry\"]\n",
    "element_counts = Counter(my_list)\n",
    "print(element_counts)"
   ]
  },
  {
   "cell_type": "markdown",
   "id": "f4c88f66",
   "metadata": {
    "id": "f4c88f66"
   },
   "source": [
    "---\n",
    "\n",
    "### Exercise 65:\n",
    "Write a Python program that removes all occurrences of a specific value from a list.\n",
    "\n",
    "```python\n",
    "# Exercise 65\n",
    "```"
   ]
  },
  {
   "cell_type": "code",
   "execution_count": 68,
   "id": "917d2683",
   "metadata": {
    "colab": {
     "base_uri": "https://localhost:8080/"
    },
    "executionInfo": {
     "elapsed": 75,
     "status": "ok",
     "timestamp": 1760717589420,
     "user": {
      "displayName": "Sangura JOEL Nyongesa",
      "userId": "07932560821536402568"
     },
     "user_tz": 0
    },
    "id": "917d2683",
    "outputId": "7f06ebea-baee-44d2-b42e-7639fcf8a26d"
   },
   "outputs": [
    {
     "name": "stdout",
     "output_type": "stream",
     "text": [
      "[2, 4, 6, 78, 5, 4, 8, 9, 6, 5, 8]\n"
     ]
    }
   ],
   "source": [
    "my_list = [2, 4, 6, 78, 7, 5, 4, 7, 8, 9, 7, 6, 5, 7, 8]\n",
    "value_to_remove = 7\n",
    "new_list = [item for item in my_list if item != value_to_remove]\n",
    "print(new_list)"
   ]
  },
  {
   "cell_type": "markdown",
   "id": "0135f024",
   "metadata": {
    "id": "0135f024"
   },
   "source": [
    "---\n",
    "\n",
    "### Exercise 66:\n",
    "Write a Python function that takes a list of strings and returns a list of the strings that start with a vowel.\n",
    "\n",
    "```python\n",
    "# Exercise 66\n",
    "```"
   ]
  },
  {
   "cell_type": "code",
   "execution_count": 69,
   "id": "9a1af845",
   "metadata": {
    "id": "9a1af845"
   },
   "outputs": [
    {
     "name": "stdout",
     "output_type": "stream",
     "text": [
      "['apple', 'orange']\n"
     ]
    }
   ],
   "source": [
    "def starts_with_vowel(string_list):\n",
    "  \"\"\"Returns a list of strings from the input list that start with a vowel.\"\"\"\n",
    "  vowels = \"aeiouAEIOU\"\n",
    "  return [s for s in string_list if s and s[0] in vowels]\n",
    "\n",
    "my_strings = [\"apple\", \"banana\", \"cherry\", \"orange\", \"grape\"]\n",
    "vowel_strings = starts_with_vowel(my_strings)\n",
    "print(vowel_strings)"
   ]
  },
  {
   "cell_type": "markdown",
   "id": "fecbd6af",
   "metadata": {
    "id": "fecbd6af"
   },
   "source": [
    "---\n",
    "\n",
    "### Exercise 67:\n",
    "Write a Python program that finds the intersection of two sets `set1` and `set2`.\n",
    "\n",
    "```python\n",
    "# Exercise 67\n",
    "```"
   ]
  },
  {
   "cell_type": "code",
   "execution_count": 70,
   "id": "b6b0367d",
   "metadata": {
    "id": "b6b0367d"
   },
   "outputs": [
    {
     "data": {
      "text/plain": [
       "{1, 2, 3, 4, 5, 6}"
      ]
     },
     "execution_count": 70,
     "metadata": {},
     "output_type": "execute_result"
    }
   ],
   "source": [
    "set_1 = {1,2,3,5,6,5,5,4,6}\n",
    "set_2 = {1,2,3,4,5,5,6,2,8}\n",
    "set_1.intersection(set_2)"
   ]
  },
  {
   "cell_type": "markdown",
   "id": "f54eccc9",
   "metadata": {
    "id": "f54eccc9"
   },
   "source": [
    "---\n",
    "\n",
    "### Exercise 68:\n",
    "Write a Python function that flattens a nested list.\n",
    "\n",
    "```python\n",
    "# Exercise 68\n",
    "```"
   ]
  },
  {
   "cell_type": "code",
   "execution_count": 71,
   "id": "cf60d753",
   "metadata": {
    "id": "cf60d753"
   },
   "outputs": [
    {
     "name": "stdout",
     "output_type": "stream",
     "text": [
      "[1, 2, 3, 4, 5, 6, 4, 6]\n"
     ]
    }
   ],
   "source": [
    "from itertools import chain\n",
    "\n",
    "nested_list = [[1, 2], [3, 4], [5, 6],[4,6]]\n",
    "flat_list = list(chain.from_iterable(nested_list))\n",
    "print(flat_list)  # Output: [1, 2, 3, 4, 5, 6]"
   ]
  },
  {
   "cell_type": "markdown",
   "id": "2dd7271c",
   "metadata": {
    "id": "2dd7271c"
   },
   "source": [
    "---\n",
    "\n",
    "### Exercise 69:\n",
    "Write a Python program that checks if all the elements in a list are unique.\n",
    "\n",
    "```python\n",
    "# Exercise 69\n",
    "```"
   ]
  },
  {
   "cell_type": "code",
   "execution_count": 72,
   "id": "281673e6",
   "metadata": {
    "id": "281673e6"
   },
   "outputs": [
    {
     "name": "stdout",
     "output_type": "stream",
     "text": [
      "List 1 unique: True\n",
      "List 2 unique: False\n"
     ]
    }
   ],
   "source": [
    "def elements_unique(input_list):\n",
    "  \"\"\"Checks if all elements in a list are unique.\"\"\"\n",
    "  return len(input_list) == len(set(input_list))\n",
    "\n",
    "list1 = [1, 2, 3, 4, 5]\n",
    "list2 = [1, 2, 2, 3, 4]\n",
    "\n",
    "print(f\"List 1 unique: {elements_unique(list1)}\")\n",
    "print(f\"List 2 unique: {elements_unique(list2)}\")"
   ]
  },
  {
   "cell_type": "markdown",
   "id": "3023e8e3",
   "metadata": {
    "id": "3023e8e3"
   },
   "source": [
    "---\n",
    "\n",
    "### Exercise 70:\n",
    "Use the `reduce()` function from the `functools` module to multiply all elements in a list.\n",
    "\n",
    "```python\n",
    "# Exercise 70\n",
    "```"
   ]
  },
  {
   "cell_type": "code",
   "execution_count": 73,
   "id": "091a5c8e",
   "metadata": {
    "id": "091a5c8e"
   },
   "outputs": [
    {
     "name": "stdout",
     "output_type": "stream",
     "text": [
      "120\n"
     ]
    }
   ],
   "source": [
    "from functools import reduce\n",
    "\n",
    "my_list = [1, 2, 3, 4, 5]\n",
    "product = reduce(lambda x, y: x * y, my_list)\n",
    "print(product)"
   ]
  },
  {
   "cell_type": "markdown",
   "id": "0b6c1d9b",
   "metadata": {
    "id": "0b6c1d9b"
   },
   "source": [
    "---\n",
    "\n",
    "### Exercise 71:\n",
    "Write a Python function that takes a list of strings and returns a dictionary where keys are strings and values are their lengths.\n",
    "\n",
    "```python\n",
    "# Exercise 71\n",
    "```"
   ]
  },
  {
   "cell_type": "code",
   "execution_count": 74,
   "id": "ad340475",
   "metadata": {
    "id": "ad340475"
   },
   "outputs": [
    {
     "name": "stdout",
     "output_type": "stream",
     "text": [
      "{'apple': 5, 'banana': 6, 'cherry': 6}\n"
     ]
    }
   ],
   "source": [
    "def string_lengths_dict(string_list):\n",
    "  \"\"\"Takes a list of strings and returns a dictionary where keys are strings and values are their lengths.\"\"\"\n",
    "  return {s: len(s) for s in string_list}\n",
    "list_9 = [\"apple\", \"banana\", \"cherry\"]\n",
    "lengths_dict = string_lengths_dict(list_9)\n",
    "print(lengths_dict)"
   ]
  },
  {
   "cell_type": "markdown",
   "id": "e74d091d",
   "metadata": {
    "id": "e74d091d"
   },
   "source": [
    "---\n",
    "\n",
    "### Exercise 72:\n",
    "Write a Python program that counts the number of vowels in a string.\n",
    "\n",
    "```python\n",
    "# Exercise 72\n",
    "```"
   ]
  },
  {
   "cell_type": "code",
   "execution_count": 75,
   "id": "a92449f1",
   "metadata": {
    "id": "a92449f1"
   },
   "outputs": [
    {
     "name": "stdout",
     "output_type": "stream",
     "text": [
      "The number of vowels in the string is: 8\n"
     ]
    }
   ],
   "source": [
    "def count_vowels(input_string):\n",
    "  \"\"\"Counts the number of vowels in a string.\"\"\"\n",
    "  vowels = \"aeiouAEIOU\"\n",
    "  vowel_count = 0\n",
    "  for char in input_string:\n",
    "    if char in vowels:\n",
    "      vowel_count += 1\n",
    "  return vowel_count\n",
    "\n",
    "my_string = \"Hello today is on friday\"\n",
    "number_of_vowels = count_vowels(my_string)\n",
    "print(f\"The number of vowels in the string is: {number_of_vowels}\")"
   ]
  },
  {
   "cell_type": "markdown",
   "id": "67ff3b2d",
   "metadata": {
    "id": "67ff3b2d"
   },
   "source": [
    "---\n",
    "\n",
    "### Exercise 73:\n",
    "Create a list of tuples where each tuple contains a number from 1 to 5 and its factorial.\n",
    "\n",
    "```python\n",
    "# Exercise 73\n",
    "```"
   ]
  },
  {
   "cell_type": "code",
   "execution_count": 76,
   "id": "90975045",
   "metadata": {
    "id": "90975045"
   },
   "outputs": [
    {
     "name": "stdout",
     "output_type": "stream",
     "text": [
      "[(1, 1), (2, 2), (3, 6), (4, 24), (5, 120)]\n"
     ]
    }
   ],
   "source": [
    "\n",
    "import math\n",
    "\n",
    "list_of_factorials = [(i, math.factorial(i)) for i in range(1, 6)]\n",
    "print(list_of_factorials)"
   ]
  },
  {
   "cell_type": "markdown",
   "id": "14fb3e7d",
   "metadata": {
    "id": "14fb3e7d"
   },
   "source": [
    "---\n",
    "\n",
    "### Exercise 74:\n",
    "Write a Python program that converts a list of dictionaries into a single dictionary by merging them.\n",
    "\n",
    "```python\n",
    "# Exercise 74\n",
    "```"
   ]
  },
  {
   "cell_type": "code",
   "execution_count": 77,
   "id": "cd01cdd1",
   "metadata": {
    "id": "cd01cdd1"
   },
   "outputs": [
    {
     "name": "stdout",
     "output_type": "stream",
     "text": [
      "{'a': 1, 'b': 2, 'c': 3, 'd': 4, 'e': 5, 'f': 6}\n"
     ]
    }
   ],
   "source": [
    "def merge_dictionaries(list_of_dicts):\n",
    "  \"\"\"Merges a list of dictionaries into a single dictionary.\"\"\"\n",
    "  merged_dict = {}\n",
    "  for d in list_of_dicts:\n",
    "    merged_dict.update(d)\n",
    "  return merged_dict\n",
    "\n",
    "dict_list = [{\"a\": 1, \"b\": 2}, {\"c\": 3, \"d\": 4}, {\"e\": 5, \"f\": 6}]\n",
    "merged_result = merge_dictionaries(dict_list)\n",
    "print(merged_result)"
   ]
  },
  {
   "cell_type": "markdown",
   "id": "0e11cd65",
   "metadata": {
    "id": "0e11cd65"
   },
   "source": [
    "---\n",
    "\n",
    "### Exercise 75:\n",
    "Write a Python function that checks if a set is a subset of another set.\n",
    "\n",
    "```python\n",
    "# Exercise 75\n",
    "```"
   ]
  },
  {
   "cell_type": "code",
   "execution_count": 78,
   "id": "81758391",
   "metadata": {
    "id": "81758391"
   },
   "outputs": [
    {
     "name": "stdout",
     "output_type": "stream",
     "text": [
      "True\n"
     ]
    }
   ],
   "source": [
    "list_p = {1,2,3,4,5,6,7,8,9}\n",
    "list_q = {1,2,3,4}\n",
    "lisr = list_q.issubset(list_p)\n",
    "print(lisr)"
   ]
  },
  {
   "cell_type": "markdown",
   "id": "e4c31a19",
   "metadata": {
    "id": "e4c31a19"
   },
   "source": [
    "---\n",
    "\n",
    "### Exercise 76:\n",
    "Write a Python program that sorts a list of tuples based on the second element in each tuple.\n",
    "\n",
    "```python\n",
    "# Exercise 76\n",
    "```"
   ]
  },
  {
   "cell_type": "code",
   "execution_count": 79,
   "id": "5ee7d089",
   "metadata": {
    "id": "5ee7d089"
   },
   "outputs": [
    {
     "name": "stdout",
     "output_type": "stream",
     "text": [
      "[(20, 10), (45, 56), (73, 59)]\n"
     ]
    }
   ],
   "source": [
    "list_of_tuples = [(45, 56), (73, 59), (20, 10)]\n",
    "sorted_list_of_tuples = sorted(list_of_tuples, key=lambda item: item[1])\n",
    "print(sorted_list_of_tuples)"
   ]
  },
  {
   "cell_type": "markdown",
   "id": "6125be43",
   "metadata": {
    "id": "6125be43"
   },
   "source": [
    "---\n",
    "\n",
    "### Exercise 77:\n",
    "Write a Python function that takes a list of integers and returns a new list with only the positive integers.\n",
    "\n",
    "```python\n",
    "# Exercise 77\n",
    "```"
   ]
  },
  {
   "cell_type": "code",
   "execution_count": 80,
   "id": "bb281052",
   "metadata": {
    "id": "bb281052"
   },
   "outputs": [
    {
     "name": "stdout",
     "output_type": "stream",
     "text": [
      "[-32, -43]\n"
     ]
    }
   ],
   "source": [
    "str_w = [34,23,-32,-43,43,23,34,79,89]\n",
    "new_list = [item for item in str_w if item < 0]\n",
    "print(new_list)"
   ]
  },
  {
   "cell_type": "markdown",
   "id": "b493c599",
   "metadata": {
    "id": "b493c599"
   },
   "source": [
    "---\n",
    "\n",
    "### Exercise 78:\n",
    "Write a Python function that takes two sets and returns their union.\n",
    "\n",
    "```python\n",
    "# Exercise 78\n",
    "```"
   ]
  },
  {
   "cell_type": "code",
   "execution_count": 81,
   "id": "42224ee0",
   "metadata": {
    "id": "42224ee0"
   },
   "outputs": [
    {
     "name": "stdout",
     "output_type": "stream",
     "text": [
      "{2, 3, 4, 5, 7, 8}\n"
     ]
    }
   ],
   "source": [
    "set_t = {2,4,2,3,5,7}\n",
    "set_g = {3,8,7,5,3,5}\n",
    "union_set = set_t.union(set_g)\n",
    "print(union_set)"
   ]
  },
  {
   "cell_type": "markdown",
   "id": "84a6a375",
   "metadata": {
    "id": "84a6a375"
   },
   "source": [
    "---\n",
    "\n",
    "### Exercise 79:\n",
    "Write a Python function that takes a list of numbers and returns the product of all the numbers.\n",
    "\n",
    "```python\n",
    "# Exercise 79\n",
    "```"
   ]
  },
  {
   "cell_type": "code",
   "execution_count": 82,
   "id": "e2804a1f",
   "metadata": {
    "id": "e2804a1f"
   },
   "outputs": [
    {
     "name": "stdout",
     "output_type": "stream",
     "text": [
      "7257600\n"
     ]
    }
   ],
   "source": [
    "listt = [3,4,5,6,3,4,5,6,7,8]\n",
    "new_list = reduce(lambda x, y: x * y, listt)\n",
    "print(new_list)"
   ]
  },
  {
   "cell_type": "markdown",
   "id": "bc155fd0",
   "metadata": {
    "id": "bc155fd0"
   },
   "source": [
    "---\n",
    "\n",
    "### Exercise 80:\n",
    "Write a Python program that converts a list of characters into a string.\n",
    "\n",
    "```python\n",
    "# Exercise 80\n",
    "```"
   ]
  },
  {
   "cell_type": "code",
   "execution_count": 83,
   "id": "338189c6",
   "metadata": {
    "id": "338189c6"
   },
   "outputs": [
    {
     "name": "stdout",
     "output_type": "stream",
     "text": [
      "abcde\n",
      "<class 'str'>\n"
     ]
    }
   ],
   "source": [
    "char_list = ['a', 'b', 'c', 'd', 'e']\n",
    "my_string = \"\".join(char_list)\n",
    "print(my_string)\n",
    "print(type(my_string))"
   ]
  },
  {
   "cell_type": "markdown",
   "id": "256f08d7",
   "metadata": {
    "id": "256f08d7"
   },
   "source": [
    "---\n",
    "\n",
    "### Exercise 81:\n",
    "Write a Python program that finds the second largest number in a list of integers.\n",
    "\n",
    "```python\n",
    "# Exercise 81\n",
    "```"
   ]
  },
  {
   "cell_type": "code",
   "execution_count": 84,
   "id": "99fdb633",
   "metadata": {
    "id": "99fdb633"
   },
   "outputs": [
    {
     "name": "stdout",
     "output_type": "stream",
     "text": [
      "7\n"
     ]
    }
   ],
   "source": [
    "listj = [2,4,5,6,7,4,3,4,5,9,7]\n",
    "listj.sort()\n",
    "second_largest = listj[-2]\n",
    "print(second_largest)"
   ]
  },
  {
   "cell_type": "markdown",
   "id": "2f35cab9",
   "metadata": {
    "id": "2f35cab9"
   },
   "source": [
    "---\n",
    "\n",
    "### Exercise 82:\n",
    "Write a Python function that takes a dictionary and returns a list of its keys in sorted order.\n",
    "\n",
    "```python\n",
    "# Exercise 82\n",
    "```"
   ]
  },
  {
   "cell_type": "code",
   "execution_count": 85,
   "id": "3a86dd1b",
   "metadata": {
    "id": "3a86dd1b"
   },
   "outputs": [
    {
     "name": "stdout",
     "output_type": "stream",
     "text": [
      "[{'name': 'colli', 'age': 89, 'height': 1.98}, {'name': 'ean', 'age': 6, 'height': 1.98}, {'name': 'hely', 'age': 3, 'height': 1.98}, {'name': 'joel', 'age': 45, 'height': 1.76}]\n"
     ]
    }
   ],
   "source": [
    "dictd = [{\"name\":\"joel\", \"age\":45, \"height\":1.76},\n",
    "         {\"name\":\"colli\", \"age\":89, \"height\":1.98},\n",
    "         {\"name\":\"hely\", \"age\":3, \"height\":1.98},\n",
    "         {\"name\":\"ean\", \"age\":6, \"height\":1.98}]\n",
    "dictd.sort(key=lambda x: x['name'])\n",
    "print(dictd)"
   ]
  },
  {
   "cell_type": "markdown",
   "id": "4247f839",
   "metadata": {
    "id": "4247f839"
   },
   "source": [
    "---\n",
    "\n",
    "### Exercise 83:\n",
    "Write a Python program that finds the most common element in a list.\n",
    "\n",
    "```python\n",
    "# Exercise 83\n",
    "```"
   ]
  },
  {
   "cell_type": "code",
   "execution_count": 86,
   "id": "ef946ba2",
   "metadata": {
    "id": "ef946ba2"
   },
   "outputs": [
    {
     "name": "stdout",
     "output_type": "stream",
     "text": [
      "The most common element is: 6\n",
      "It appears 7 times.\n"
     ]
    }
   ],
   "source": [
    "from collections import Counter\n",
    "\n",
    "listo = [2, 3, 4, 5, 5, 5, 5, 6, 7, 8, 7, 6, 6, 6, 6, 6, 6, 4, 4, 3]\n",
    "element_counts = Counter(listo)\n",
    "most_common_element = element_counts.most_common(1)[0][0]\n",
    "most_common_count = element_counts.most_common(1)[0][1]\n",
    "print(f\"The most common element is: {most_common_element}\")\n",
    "print(f\"It appears {most_common_count} times.\")"
   ]
  },
  {
   "cell_type": "markdown",
   "id": "555b13ad",
   "metadata": {
    "id": "555b13ad"
   },
   "source": [
    "---\n",
    "\n",
    "### Exercise 84:\n",
    "Write a Python function that takes a list of tuples and returns a list of the tuples sorted by the first element.\n",
    "\n",
    "```python\n",
    "# Exercise 84\n",
    "```"
   ]
  },
  {
   "cell_type": "code",
   "execution_count": 87,
   "id": "fd1e7c20",
   "metadata": {
    "id": "fd1e7c20"
   },
   "outputs": [
    {
     "name": "stdout",
     "output_type": "stream",
     "text": [
      "[(2, 45, 23, 5, 66, 78, 3, 4, 2, 2, 3, 4, 5, 5)]\n"
     ]
    }
   ],
   "source": [
    "list_of_tuples = [(2, 45, 23, 5, 66, 78, 3, 4, 2, 2, 3, 4, 5, 5)]\n",
    "sorted_list_of_tuples = sorted(list_of_tuples, key=lambda item: item[0:-1])\n",
    "print(sorted_list_of_tuples)"
   ]
  },
  {
   "cell_type": "markdown",
   "id": "5d9d2b3e",
   "metadata": {
    "id": "5d9d2b3e"
   },
   "source": [
    "---\n",
    "\n",
    "### Exercise 85:\n",
    "Write a Python program that removes duplicates from a list of dictionaries.\n",
    "\n",
    "```python\n",
    "# Exercise 85\n",
    "```"
   ]
  },
  {
   "cell_type": "code",
   "execution_count": 88,
   "id": "ec815dc5",
   "metadata": {
    "id": "ec815dc5"
   },
   "outputs": [
    {
     "name": "stdout",
     "output_type": "stream",
     "text": [
      "[{'name': 'joel', 'age': 45, 'height': 1.76}, {'name': 'colli', 'age': 89, 'height': 1.98}, {'name': 'ean', 'age': 6, 'height': 1.98}, {'name': 'juli', 'age': 90, 'height': 1.98}]\n"
     ]
    }
   ],
   "source": [
    "def remove_duplicate_dictionaries(list_of_dicts):\n",
    "  \"\"\"Removes duplicate dictionaries from a list while preserving order.\"\"\"\n",
    "  seen = set()\n",
    "  result = []\n",
    "  for d in list_of_dicts:\n",
    "    # Create a hashable representation of the dictionary\n",
    "    dict_representation = tuple(sorted(d.items()))\n",
    "    if dict_representation not in seen:\n",
    "      seen.add(dict_representation)\n",
    "      result.append(d)\n",
    "  return result\n",
    "\n",
    "dictd = [{\"name\":\"joel\", \"age\":45, \"height\":1.76},\n",
    "         {\"name\":\"colli\", \"age\":89, \"height\":1.98},\n",
    "         {\"name\":\"joel\", \"age\":45, \"height\":1.76},\n",
    "         {\"name\":\"ean\", \"age\":6, \"height\":1.98},\n",
    "         {\"name\":\"joel\", \"age\":45, \"height\":1.76},\n",
    "         {\"name\":\"colli\", \"age\":89, \"height\":1.98},\n",
    "         {\"name\":\"joel\", \"age\":45, \"height\":1.76},\n",
    "         {\"name\":\"juli\", \"age\":90, \"height\":1.98}]\n",
    "\n",
    "unique_dict_list = remove_duplicate_dictionaries(dictd)\n",
    "print(unique_dict_list)"
   ]
  },
  {
   "cell_type": "markdown",
   "id": "b23fe4d9",
   "metadata": {
    "id": "b23fe4d9"
   },
   "source": [
    "---\n",
    "\n",
    "### Exercise 86:\n",
    "Write a Python function that takes a list of numbers and returns the minimum and maximum numbers in the list.\n",
    "\n",
    "```python\n",
    "# Exercise 86\n",
    "```"
   ]
  },
  {
   "cell_type": "code",
   "execution_count": 89,
   "id": "5ccb0779",
   "metadata": {
    "id": "5ccb0779"
   },
   "outputs": [
    {
     "name": "stdout",
     "output_type": "stream",
     "text": [
      "2\n",
      "8\n"
     ]
    }
   ],
   "source": [
    "list_t = [2, 3, 4, 5, 5, 5, 5, 6, 7, 8, 7, 6, 6, 6, 6, 6, 6, 4, 4, 3]\n",
    "min_number = min(list_t)\n",
    "max_number = max(list_t)\n",
    "print(min_number)\n",
    "print(max_number)"
   ]
  },
  {
   "cell_type": "markdown",
   "id": "c6485f92",
   "metadata": {
    "id": "c6485f92"
   },
   "source": [
    "---\n",
    "\n",
    "### Exercise 87:\n",
    "Write a Python program that creates a list of tuples from two lists.\n",
    "\n",
    "```python\n",
    "# Exercise 87\n",
    "```"
   ]
  },
  {
   "cell_type": "code",
   "execution_count": 90,
   "id": "6d541303",
   "metadata": {
    "id": "6d541303"
   },
   "outputs": [
    {
     "name": "stdout",
     "output_type": "stream",
     "text": [
      "[(2, 1), (3, 2), (4, 3), (5, 4), (5, 5), (5, 6), (5, 7), (6, 8), (7, 9), (8, 10), (7, 11), (6, 12), (6, 13), (6, 14), (6, 15), (6, 16), (6, 17), (4, 18), (4, 19), (3, 20)]\n"
     ]
    }
   ],
   "source": [
    "list_e = [2, 3, 4, 5, 5, 5, 5, 6, 7, 8, 7, 6, 6, 6, 6, 6, 6, 4, 4, 3]\n",
    "list_r = [1, 2, 3, 4, 5, 6, 7, 8, 9, 10, 11, 12, 13, 14, 15, 16, 17, 18, 19, 20] # Added another list\n",
    "list_of_tuples = list(zip(list_e, list_r))\n",
    "print(list_of_tuples)"
   ]
  },
  {
   "cell_type": "markdown",
   "id": "e1062d63",
   "metadata": {
    "id": "e1062d63"
   },
   "source": [
    "---\n",
    "\n",
    "### Exercise 88:\n",
    "Write a Python function that takes a list of strings and returns a list of the strings in reverse order.\n",
    "\n",
    "```python\n",
    "# Exercise 88\n",
    "```"
   ]
  },
  {
   "cell_type": "code",
   "execution_count": 91,
   "id": "4a33294a",
   "metadata": {
    "id": "4a33294a"
   },
   "outputs": [
    {
     "name": "stdout",
     "output_type": "stream",
     "text": [
      "['date', 'cherry', 'banana', 'apple']\n"
     ]
    }
   ],
   "source": [
    "def reverse_string_list(input_list):\n",
    "  \"\"\"Reverses a list of strings and returns the reversed list.\"\"\"\n",
    "  return input_list[::-1]\n",
    "my_strings = [\"apple\", \"banana\", \"cherry\", \"date\"]\n",
    "reversed_strings = reverse_string_list(my_strings)\n",
    "print(reversed_strings)"
   ]
  },
  {
   "cell_type": "markdown",
   "id": "c511f08f",
   "metadata": {
    "id": "c511f08f"
   },
   "source": [
    "---\n",
    "\n",
    "### Exercise 89:\n",
    "Write a Python function that takes a list of integers and returns the sum of all odd numbers.\n",
    "\n",
    "```python\n",
    "# Exercise 89\n",
    "```"
   ]
  },
  {
   "cell_type": "code",
   "execution_count": 92,
   "id": "cc1af413",
   "metadata": {
    "id": "cc1af413"
   },
   "outputs": [
    {
     "name": "stdout",
     "output_type": "stream",
     "text": [
      "The sum of the odd numbers is: 25\n"
     ]
    }
   ],
   "source": [
    "def sum_of_odd_numbers(input_list):\n",
    "  \"\"\"Calculates the sum of all odd numbers in a list of integers.\"\"\"\n",
    "  return sum(num for num in input_list if num % 2 != 0)\n",
    "\n",
    "my_numbers = [1, 2, 3, 4, 5, 6, 7, 8, 9, 10]\n",
    "total_odd = sum_of_odd_numbers(my_numbers)\n",
    "print(f\"The sum of the odd numbers is: {total_odd}\")"
   ]
  },
  {
   "cell_type": "markdown",
   "id": "63282617",
   "metadata": {
    "id": "63282617"
   },
   "source": [
    "---\n",
    "\n",
    "### Exercise 90:\n",
    "Write a Python program that checks if a string is a palindrome.\n",
    "\n",
    "```python\n",
    "# Exercise 90\n",
    "```"
   ]
  },
  {
   "cell_type": "code",
   "execution_count": 93,
   "id": "d1d33670",
   "metadata": {
    "id": "d1d33670"
   },
   "outputs": [
    {
     "name": "stdout",
     "output_type": "stream",
     "text": [
      "'racecar' is a palindrome: True\n",
      "'hello' is a palindrome: False\n",
      "'A man a plan a canal Panama' is a palindrome: True\n"
     ]
    }
   ],
   "source": [
    "def is_palindrome(input_string):\n",
    "  \"\"\"Checks if a string is a palindrome.\"\"\"\n",
    "  # Remove spaces and convert to lowercase for case-insensitive check\n",
    "  processed_string = \"\".join(input_string.split()).lower()\n",
    "  return processed_string == processed_string[::-1]\n",
    "\n",
    "string1 = \"racecar\"\n",
    "string2 = \"hello\"\n",
    "string3 = \"A man a plan a canal Panama\"\n",
    "\n",
    "print(f\"'{string1}' is a palindrome: {is_palindrome(string1)}\")\n",
    "print(f\"'{string2}' is a palindrome: {is_palindrome(string2)}\")\n",
    "print(f\"'{string3}' is a palindrome: {is_palindrome(string3)}\")"
   ]
  },
  {
   "cell_type": "markdown",
   "id": "f7201bfe",
   "metadata": {
    "id": "f7201bfe"
   },
   "source": [
    "---\n",
    "\n",
    "### Exercise 91:\n",
    "Write a Python program that finds the median of a list of numbers.\n",
    "\n",
    "```python\n",
    "# Exercise 91\n",
    "```"
   ]
  },
  {
   "cell_type": "code",
   "execution_count": 94,
   "id": "1b0ebc1f",
   "metadata": {
    "id": "1b0ebc1f"
   },
   "outputs": [
    {
     "name": "stdout",
     "output_type": "stream",
     "text": [
      "The median of [1, 3, 2, 4, 5] is: 3\n",
      "The median of [1, 2, 3, 4, 5, 6] is: 3.5\n"
     ]
    }
   ],
   "source": [
    "def find_median(numbers):\n",
    "  \"\"\"Finds the median of a list of numbers.\"\"\"\n",
    "  sorted_numbers = sorted(numbers)\n",
    "  n = len(sorted_numbers)\n",
    "  mid_index = n // 2\n",
    "\n",
    "  if n % 2 == 0:\n",
    "    # If the list has an even number of elements, the median is the average of the two middle elements\n",
    "    median = (sorted_numbers[mid_index - 1] + sorted_numbers[mid_index]) / 2\n",
    "  else:\n",
    "    # If the list has an odd number of elements, the median is the middle element\n",
    "    median = sorted_numbers[mid_index]\n",
    "  return median\n",
    "\n",
    "list1 = [1, 3, 2, 4, 5]\n",
    "list2 = [1, 2, 3, 4, 5, 6]\n",
    "\n",
    "median1 = find_median(list1)\n",
    "median2 = find_median(list2)\n",
    "\n",
    "print(f\"The median of {list1} is: {median1}\")\n",
    "print(f\"The median of {list2} is: {median2}\")"
   ]
  },
  {
   "cell_type": "markdown",
   "id": "c3e74062",
   "metadata": {
    "id": "c3e74062"
   },
   "source": [
    "---\n",
    "\n",
    "### Exercise 92:\n",
    "Write a Python function that takes a list of dictionaries and returns a dictionary with the total value for each key.\n",
    "\n",
    "```python\n",
    "# Exercise 92\n",
    "```"
   ]
  },
  {
   "cell_type": "code",
   "execution_count": 95,
   "id": "9219c119",
   "metadata": {
    "id": "9219c119"
   },
   "outputs": [
    {
     "name": "stdout",
     "output_type": "stream",
     "text": [
      "{'item': defaultdict(<class 'list'>, {'values': ['apple', 'banana', 'apple', 'cherry']}), 'quantity': defaultdict(<class 'list'>, {'sum': 28}), 'price': defaultdict(<class 'list'>, {'sum': 4.5})}\n"
     ]
    }
   ],
   "source": [
    "from collections import defaultdict\n",
    "\n",
    "def total_values_by_key(list_of_dicts):\n",
    "  \"\"\"Takes a list of dictionaries and returns a dictionary with the total value for each key.\"\"\"\n",
    "  total_dict = defaultdict(lambda: defaultdict(list)) # Change to defaultdict(list) for handling non-numeric values\n",
    "  for d in list_of_dicts:\n",
    "    for key, value in d.items():\n",
    "      if isinstance(value, (int, float)): # Check if value is numeric\n",
    "        # Initialize sum for numeric values if not already present\n",
    "        if 'sum' not in total_dict[key]:\n",
    "          total_dict[key]['sum'] = 0\n",
    "        total_dict[key]['sum'] += value\n",
    "      else:\n",
    "        # Handle non-numeric values, e.g., store them in a list\n",
    "        total_dict[key]['values'].append(value)\n",
    "\n",
    "  # Return a dictionary with both summed numeric values and lists of non-numeric values\n",
    "  return dict(total_dict)\n",
    "\n",
    "list_of_sales = [\n",
    "    {\"item\": \"apple\", \"quantity\": 10, \"price\": 1.0},\n",
    "    {\"item\": \"banana\", \"quantity\": 5, \"price\": 0.5},\n",
    "    {\"item\": \"apple\", \"quantity\": 3, \"price\": 1.0},\n",
    "    {\"item\": \"cherry\", \"quantity\": 10, \"price\": 2.0},\n",
    "]\n",
    "\n",
    "total_sales_by_item = total_values_by_key(list_of_sales)\n",
    "print(total_sales_by_item)"
   ]
  },
  {
   "cell_type": "markdown",
   "id": "e8311f78",
   "metadata": {
    "id": "e8311f78"
   },
   "source": [
    "---\n",
    "\n",
    "### Exercise 93:\n",
    "Write a Python program that calculates the mode of a list of numbers.\n",
    "\n",
    "```python\n",
    "# Exercise 93\n",
    "```"
   ]
  },
  {
   "cell_type": "code",
   "execution_count": 96,
   "id": "59802621",
   "metadata": {
    "id": "59802621"
   },
   "outputs": [
    {
     "name": "stdout",
     "output_type": "stream",
     "text": [
      "The mode of [1, 2, 2, 3, 3, 3, 4, 5] is: [3]\n",
      "The mode of [1, 1, 2, 2, 3, 3] is: [1, 2, 3]\n",
      "The mode of [1, 2, 3, 4, 5] is: No unique mode (all elements appear equally often)\n",
      "The mode of [] is: None\n"
     ]
    }
   ],
   "source": [
    "from collections import Counter\n",
    "\n",
    "def find_mode(numbers):\n",
    "  \"\"\"Finds the mode of a list of numbers.\"\"\"\n",
    "  # Handle cases with empty list\n",
    "  if not numbers:\n",
    "    return None\n",
    "\n",
    "  counts = Counter(numbers)\n",
    "  max_count = max(counts.values())\n",
    "  mode = [num for num, count in counts.items() if count == max_count]\n",
    "\n",
    "  # If all elements appear the same number of times, there is no unique mode\n",
    "  if len(mode) == len(numbers):\n",
    "      return \"No unique mode (all elements appear equally often)\"\n",
    "\n",
    "  return mode\n",
    "\n",
    "\n",
    "list1 = [1, 2, 2, 3, 3, 3, 4, 5]\n",
    "list2 = [1, 1, 2, 2, 3, 3]\n",
    "list3 = [1, 2, 3, 4, 5]\n",
    "list4 = []\n",
    "\n",
    "mode1 = find_mode(list1)\n",
    "mode2 = find_mode(list2)\n",
    "mode3 = find_mode(list3)\n",
    "mode4 = find_mode(list4)\n",
    "\n",
    "\n",
    "print(f\"The mode of {list1} is: {mode1}\")\n",
    "print(f\"The mode of {list2} is: {mode2}\")\n",
    "print(f\"The mode of {list3} is: {mode3}\")\n",
    "print(f\"The mode of {list4} is: {mode4}\")"
   ]
  },
  {
   "cell_type": "markdown",
   "id": "05ac4e77",
   "metadata": {
    "id": "05ac4e77"
   },
   "source": [
    "---\n",
    "\n",
    "### Exercise 94:\n",
    "Write a Python function that takes a list of numbers and returns the sum of the squares of all the numbers.\n",
    "\n",
    "```python\n",
    "# Exercise 94\n",
    "```"
   ]
  },
  {
   "cell_type": "code",
   "execution_count": 97,
   "id": "8da1506e",
   "metadata": {
    "id": "8da1506e"
   },
   "outputs": [
    {
     "name": "stdout",
     "output_type": "stream",
     "text": [
      "The sum of the squares is: 55\n"
     ]
    }
   ],
   "source": [
    "def sum_of_squares(numbers):\n",
    "  \"\"\"Calculates the sum of the squares of all numbers in a list.\"\"\"\n",
    "  return sum(num**2 for num in numbers)\n",
    "\n",
    "my_numbers = [1, 2, 3, 4, 5]\n",
    "total_squares = sum_of_squares(my_numbers)\n",
    "print(f\"The sum of the squares is: {total_squares}\")"
   ]
  },
  {
   "cell_type": "markdown",
   "id": "eb114cef",
   "metadata": {
    "id": "eb114cef"
   },
   "source": [
    "---\n",
    "\n",
    "### Exercise 95:\n",
    "Write a Python program that creates a list of tuples, where each tuple contains a number and its cube for numbers from 1 to 5.\n",
    "\n",
    "```python\n",
    "# Exercise 95\n",
    "```"
   ]
  },
  {
   "cell_type": "code",
   "execution_count": 98,
   "id": "01374a54",
   "metadata": {
    "id": "01374a54"
   },
   "outputs": [
    {
     "name": "stdout",
     "output_type": "stream",
     "text": [
      "[(1, 1), (2, 8), (3, 27), (4, 64), (5, 125)]\n"
     ]
    }
   ],
   "source": [
    "list_of_cubes = [(i, i**3) for i in range(1, 6)]\n",
    "print(list_of_cubes)"
   ]
  },
  {
   "cell_type": "markdown",
   "id": "9badf283",
   "metadata": {
    "id": "9badf283"
   },
   "source": [
    "---\n",
    "\n",
    "### Exercise 96:\n",
    "Write a Python function that returns a list of all prime numbers up to `n`.\n",
    "\n",
    "```python\n",
    "# Exercise 96\n",
    "```"
   ]
  },
  {
   "cell_type": "code",
   "execution_count": 99,
   "id": "be5eaad9",
   "metadata": {
    "id": "be5eaad9"
   },
   "outputs": [
    {
     "name": "stdout",
     "output_type": "stream",
     "text": [
      "Prime numbers up to 20: [2, 3, 5, 7, 11, 13, 17, 19]\n"
     ]
    }
   ],
   "source": [
    "def find_primes_up_to_n(n):\n",
    "  \"\"\"Returns a list of all prime numbers up to n.\"\"\"\n",
    "  primes = []\n",
    "  for num in range(2, n + 1):\n",
    "    is_prime = True\n",
    "    for i in range(2, int(num**0.5) + 1):\n",
    "      if num % i == 0:\n",
    "        is_prime = False\n",
    "        break\n",
    "    if is_prime:\n",
    "      primes.append(num)\n",
    "  return primes\n",
    "\n",
    "n_value = 20\n",
    "prime_numbers = find_primes_up_to_n(n_value)\n",
    "print(f\"Prime numbers up to {n_value}: {prime_numbers}\")"
   ]
  },
  {
   "cell_type": "markdown",
   "id": "0387491f",
   "metadata": {
    "id": "0387491f"
   },
   "source": [
    "---\n",
    "\n",
    "### Exercise 97:\n",
    "Write a Python program that finds the common keys between two dictionaries.\n",
    "\n",
    "```python\n",
    "# Exercise 97\n",
    "```"
   ]
  },
  {
   "cell_type": "code",
   "execution_count": 100,
   "id": "b9309cfc",
   "metadata": {
    "id": "b9309cfc"
   },
   "outputs": [
    {
     "name": "stdout",
     "output_type": "stream",
     "text": [
      "The common keys are: ['c', 'b']\n"
     ]
    }
   ],
   "source": [
    "def find_common_keys(dict1, dict2):\n",
    "  \"\"\"Finds the common keys between two dictionaries.\"\"\"\n",
    "  return list(dict1.keys() & dict2.keys())\n",
    "\n",
    "dict_a = {\"a\": 1, \"b\": 2, \"c\": 3}\n",
    "dict_b = {\"b\": 4, \"c\": 5, \"d\": 6}\n",
    "common_keys = find_common_keys(dict_a, dict_b)\n",
    "print(f\"The common keys are: {common_keys}\")"
   ]
  },
  {
   "cell_type": "markdown",
   "id": "d3846534",
   "metadata": {
    "id": "d3846534"
   },
   "source": [
    "---\n",
    "\n",
    "### Exercise 98:\n",
    "Write a Python function that takes a list of strings and returns a list of the strings that contain more than 5 characters.\n",
    "\n",
    "```python\n",
    "# Exercise 98\n",
    "```"
   ]
  },
  {
   "cell_type": "code",
   "execution_count": 101,
   "id": "b26fca7a",
   "metadata": {
    "id": "b26fca7a"
   },
   "outputs": [
    {
     "name": "stdout",
     "output_type": "stream",
     "text": [
      "['banana', 'cherry', 'grapefruit']\n"
     ]
    }
   ],
   "source": [
    "def strings_longer_than_five(string_list):\n",
    "  \"\"\"Returns a list of strings from the input list that have more than 5 characters.\"\"\"\n",
    "  return [s for s in string_list if len(s) > 5]\n",
    "\n",
    "my_strings = [\"apple\", \"banana\", \"cherry\", \"date\", \"grapefruit\"]\n",
    "long_strings = strings_longer_than_five(my_strings)\n",
    "print(long_strings)"
   ]
  },
  {
   "cell_type": "markdown",
   "id": "5450cb38",
   "metadata": {
    "id": "5450cb38"
   },
   "source": [
    "---\n",
    "\n",
    "### Exercise 99:\n",
    "Write a Python program that converts a list of strings into a list of tuples, where each tuple contains the string and its length.\n",
    "\n",
    "```python\n",
    "# Exercise 99\n",
    "```"
   ]
  },
  {
   "cell_type": "code",
   "execution_count": 102,
   "id": "a5cb1e1b",
   "metadata": {
    "id": "a5cb1e1b"
   },
   "outputs": [
    {
     "name": "stdout",
     "output_type": "stream",
     "text": [
      "Result with empty list: []\n"
     ]
    }
   ],
   "source": [
    "empty_list = []\n",
    "long_strings_from_empty = strings_longer_than_five(empty_list)\n",
    "print(f\"Result with empty list: {long_strings_from_empty}\")"
   ]
  },
  {
   "cell_type": "markdown",
   "id": "bea983a3",
   "metadata": {
    "id": "bea983a3"
   },
   "source": [
    "---\n",
    "\n",
    "### Exercise 100:\n",
    "Write a Python function that takes a list of dictionaries and returns a new dictionary by summing the values of each key across all dictionaries.\n",
    "\n",
    "```python\n",
    "# Exercise 100\n",
    "```\n",
    "\n",
    "---"
   ]
  },
  {
   "cell_type": "code",
   "execution_count": 103,
   "id": "f05e78c9",
   "metadata": {
    "id": "f05e78c9"
   },
   "outputs": [
    {
     "name": "stdout",
     "output_type": "stream",
     "text": [
      "[('apple', 5), ('banana', 6), ('cherry', 6), ('date', 4)]\n"
     ]
    }
   ],
   "source": [
    "def strings_to_tuples_with_length(string_list):\n",
    "  \"\"\"Converts a list of strings into a list of tuples (string, length).\"\"\"\n",
    "  return [(s, len(s)) for s in string_list]\n",
    "\n",
    "my_strings = [\"apple\", \"banana\", \"cherry\", \"date\"]\n",
    "string_tuples = strings_to_tuples_with_length(my_strings)\n",
    "print(string_tuples)"
   ]
  },
  {
   "cell_type": "code",
   "execution_count": null,
   "id": "770395d3",
   "metadata": {},
   "outputs": [],
   "source": []
  }
 ],
 "metadata": {
  "colab": {
   "provenance": [
    {
     "file_id": "1vr2y15j4yCVlY5E95lFMqeSZUH0vEgPU",
     "timestamp": 1760717631895
    }
   ]
  },
  "kernelspec": {
   "display_name": "Python 3 (ipykernel)",
   "language": "python",
   "name": "python3"
  },
  "language_info": {
   "codemirror_mode": {
    "name": "ipython",
    "version": 3
   },
   "file_extension": ".py",
   "mimetype": "text/x-python",
   "name": "python",
   "nbconvert_exporter": "python",
   "pygments_lexer": "ipython3",
   "version": "3.12.3"
  }
 },
 "nbformat": 4,
 "nbformat_minor": 5
}
